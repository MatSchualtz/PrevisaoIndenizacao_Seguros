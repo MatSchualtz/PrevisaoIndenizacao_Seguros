{
  "cells": [
    {
      "cell_type": "markdown",
      "metadata": {},
      "source": [
        "# Apresentação"
      ]
    },
    {
      "cell_type": "markdown",
      "metadata": {},
      "source": [
        "UM BREVE DESCRITIVO DA IMPORTANCIA DO USO DE ML PARA SEGURADORADAS"
      ]
    },
    {
      "cell_type": "markdown",
      "metadata": {},
      "source": [
        "## OBJETIVOS\n",
        "***\n",
        "\n",
        "### GERAL\n",
        "\n",
        "Desenvolver um modelo preditivo para o valor da indenização com o objetivo de auxiliar o time de pricing a melhorar as políticas de preços praticadas pela seguradora, a fim de estimar custos de acordo com o perfil do contrato (cliente).\n",
        "\n",
        "### Específicos \n",
        "\n",
        "1) Realizar Análise Descritiva:\n",
        "\n",
        "* Descrição: Entender o comportamento das variáveis presentes no dataset.\n",
        "* Objetivo: Identificar padrões e relações importantes entre as variáveis que possam influenciar o valor da indenização.\n",
        "  \n",
        "2) Criar um Modelo Preditivo:\n",
        "\n",
        "* Descrição: Desenvolver um modelo de aprendizado de máquina capaz de estimar o valor da indenização pago em cada contrato.\n",
        "* Objetivo: Fornecer previsões precisas que possam ser utilizadas pelo time de pricing para ajustar as políticas de preços.\n",
        "\n",
        "3) Fazer o Deploy do Modelo:\n",
        "\n",
        "* Descrição: Implementar o modelo preditivo através de uma API.\n",
        "* Objetivo: Permitir que o time de pricing tenha acesso fácil e rápido ao modelo para realizar previsões e ajustes de preços em tempo real."
      ]
    },
    {
      "cell_type": "markdown",
      "metadata": {},
      "source": [
        "## VARIÁVEIS\n",
        "***\n",
        "\n",
        "PARA ESSE PROJETO SERÃO UTILIZADAS AS SEGUINTES VARIÁVEIS:\n",
        "\n",
        "|  CAMPO | DESCRIÇÃO | TIPO |\n",
        "|:-------------:|:-------------:|:-------------:|\n",
        "| COD_SEG  | Código da Seguradora – FIP. Exemplo: 08001. | STRING |\n",
        "| APOLICE  | Preencher com o respectivo número da apólice. O número deve estar alinhado à direita, e completado com zeros à esquerda (Ex.: “00000000000001A1330”). | FLOAT |\n",
        "| ENDOSSO  | Preencher com o respectivo número do endosso. No caso de registro de apólice, o campo “endosso” deve ser preenchido com o valor “0000000000”. O número deve estar alinhado à direita, e completado com zeros à esquerda. | STRING |\n",
        "| ITEM  | Preencher com o item de identificação do veículo em caso de apólice coletiva. Caso contrário, preencher com o valor “000000”. O número deve estar alinhado à direita, e completado com zeros à esquerda | INT  |\n",
        "| MODALIDADE  | Preencher com o código correspondente à modalidade. Exemplo: VMR – Valor de Mercado Referenciado (1), VR – Valor Determinado (2), Produtos com uma única cobertura de RCF (3) e seguro popular (4). | INT |\n",
        "| TIPO_PROD  | Preencher com o código correspondente ao tipo de produto. Exemplo: Padrão (1) e Perfil (2). | INT |\n",
        "| COBERTURA  | Preencher com o tipo de cobertura contratada, de acordo com o código estabelecido na Tabela 6-3. | INT |\n",
        "| COD_MODELO  | Preencher com o código do modelo do veículo na tabela FIPE (Tabela 6-9). Caso o modelo não exista na tabela FIPE, deve ser preenchido com “999999-9”. | STRING |\n",
        "| ANO_MODELO  | Preencher com o ano do modelo do veículo – AAAA | DATETIME |\n",
        "| COD_TARIF  | Preencher com o código da categoria tarifária em que o veículo se enquadra. | INT |\n",
        "| REGIAO  | Preencher com o código do tipo de contrato de seguro: 1 – para valor de mercado referenciado (V. M. R.), 2 – para valor definido (V. D.). | INT |\n",
        "| EVENTO  | Preencher com o código de sinistro. | INT |\n",
        "| INDENIZ  | Preencher com o valor total da indenização efetivamente paga ao segurado, de acordo com o evento informado, sem desconto de cosseguro e/ou resseguro. Para o caso de sinistro avisado e não pago, a seguradora deve informar o valor estimado desta indenização | FLOAT |\n",
        "| VAL_SALVAD  | Preencher com o valor do salvado. | FLOAT |\n",
        "| D_SALVADO  | Preencher com a data de recuperação do salvado, referente ao sinistro gerador do registro – AAAAMMDD. Caso não haja informação para este campo, preencher com “00000000”. | DATETIME |\n",
        "| VAL_RESS  | Preencher com o valor do ressarcimento. | FLOAT |\n",
        "| D_RESS  | Preencher com a data de recuperação do ressarcimento, referente ao sinistro gerador do registro – AAAAMMDD. Caso não haja informação para este campo, preencher com “00000000”. | DATETIME |\n",
        "| D_AVI  | Preencher com a data do aviso do sinistro, de acordo com o evento informado – AAAAMMDD. Caso não haja informação para este campo, preencher com “00000000”. | DATETIME |\n",
        "| D_LIQ  | Preencher com a data de liquidação do sinistro, de acordo com o evento informado – AAAAMMDD. Obs.: Em caso de valor estimado, preencher com “00000000” | DATETIME |\n",
        "| D_OCORR  | Preencher com a data de ocorrência do sinistro – AAAAMMDD. | DATETIME |\n",
        "| CAUSA  | Preencher com o código da causa geradora do sinistro. | INT |\n",
        "| SEXO  | Preencher com a letra correspondente ao sexo do condutor sinistrado. Exemplo: Masculino (M); Feminino (F). | STRING |\n",
        "| D_NASC  | Data de Nascimento do condutor sinistrado - AAAAMMDD | DATETIME |\n",
        "| CEP  | Código de Endereçamento Postal da localidade de ocorrência do sinistro. No caso de produto do tipo Perfil, este campo deverá ser obrigatoriamente preenchido com um CEP válido, caso contrário, este campo poderá ser preenchido com ‘00000000’, na eventualidade da seguradora não possuir esse dado. | INT |\n",
        "\n",
        "### Códigos\n",
        "\n",
        "|  CAMPO | DESCRIÇÃO | TIPO |\n",
        "|:-------------:|:-------------:|:-------------:|\n",
        "| COD_SEG  | Código da Seguradora – FIP. Exemplo: 08001. | STRING |"
      ]
    },
    {
      "cell_type": "markdown",
      "metadata": {
        "id": "3XagQgF8Fauw"
      },
      "source": [
        "# SETUP"
      ]
    },
    {
      "cell_type": "markdown",
      "metadata": {},
      "source": [
        "## LIBS"
      ]
    },
    {
      "cell_type": "code",
      "execution_count": 23,
      "metadata": {
        "id": "d53VfN0FT5K0"
      },
      "outputs": [],
      "source": [
        "#Análise de Dados\n",
        "\n",
        "import pandas as pd\n",
        "import numpy as np\n",
        "import datetime as dt\n",
        "\n",
        "#Análise Gráfica\n",
        "\n",
        "import matplotlib.pyplot as plt\n",
        "import matplotlib.gridspec as gridspec\n",
        "import seaborn as sns\n",
        "\n",
        "#Análise Estátistica\n",
        "\n",
        "import statsmodels.formula.api as smf\n",
        "\n",
        "#ML\n",
        "\n",
        "from sklearn.model_selection import train_test_split, GridSearchCV\n",
        "from sklearn.linear_model import LinearRegression\n",
        "from sklearn import metrics\n",
        "from sklearn.preprocessing import MinMaxScaler, power_transform\n",
        "from sklearn.tree import DecisionTreeRegressor\n",
        "from sklearn.ensemble import RandomForestRegressor, AdaBoostRegressor, GradientBoostingRegressor"
      ]
    },
    {
      "cell_type": "markdown",
      "metadata": {},
      "source": [
        "## FUNÇÕES"
      ]
    },
    {
      "cell_type": "code",
      "execution_count": null,
      "metadata": {},
      "outputs": [],
      "source": []
    },
    {
      "cell_type": "markdown",
      "metadata": {},
      "source": [
        "## LEITURA DOS DADOS"
      ]
    },
    {
      "cell_type": "code",
      "execution_count": 24,
      "metadata": {
        "colab": {
          "base_uri": "https://localhost:8080/",
          "height": 206
        },
        "id": "2qwb-szsVsbV",
        "outputId": "1df530dc-e2d5-42d3-fcbd-dee55c452f15"
      },
      "outputs": [
        {
          "name": "stderr",
          "output_type": "stream",
          "text": [
            "C:\\Users\\mateus.schualtz\\AppData\\Local\\Temp\\ipykernel_9780\\1501949676.py:1: DtypeWarning: Columns (1,9) have mixed types. Specify dtype option on import or set low_memory=False.\n",
            "  df = pd.read_csv(\"D:\\Projetos\\Previsao_valor_seguro\\PrevisaoValorSeguro\\Data\\S_AUTO_2021A.csv\", sep=';',decimal=',')\n"
          ]
        },
        {
          "data": {
            "text/html": [
              "<div>\n",
              "<style scoped>\n",
              "    .dataframe tbody tr th:only-of-type {\n",
              "        vertical-align: middle;\n",
              "    }\n",
              "\n",
              "    .dataframe tbody tr th {\n",
              "        vertical-align: top;\n",
              "    }\n",
              "\n",
              "    .dataframe thead th {\n",
              "        text-align: right;\n",
              "    }\n",
              "</style>\n",
              "<table border=\"1\" class=\"dataframe\">\n",
              "  <thead>\n",
              "    <tr style=\"text-align: right;\">\n",
              "      <th></th>\n",
              "      <th>cod_apo</th>\n",
              "      <th>ENDOSSO</th>\n",
              "      <th>ITEM</th>\n",
              "      <th>MODALIDADE</th>\n",
              "      <th>TIPO_PROD</th>\n",
              "      <th>COBERTURA</th>\n",
              "      <th>COD_MODELO</th>\n",
              "      <th>ANO_MODELO</th>\n",
              "      <th>COD_TARIF</th>\n",
              "      <th>REGIAO</th>\n",
              "      <th>...</th>\n",
              "      <th>D_SALVADO</th>\n",
              "      <th>VAL_RESS</th>\n",
              "      <th>D_RESS</th>\n",
              "      <th>D_AVI</th>\n",
              "      <th>D_LIQ</th>\n",
              "      <th>D_OCORR</th>\n",
              "      <th>CAUSA</th>\n",
              "      <th>SEXO</th>\n",
              "      <th>D_NASC</th>\n",
              "      <th>CEP</th>\n",
              "    </tr>\n",
              "  </thead>\n",
              "  <tbody>\n",
              "    <tr>\n",
              "      <th>0</th>\n",
              "      <td>NaN</td>\n",
              "      <td>0000000000</td>\n",
              "      <td>0</td>\n",
              "      <td>1</td>\n",
              "      <td>1</td>\n",
              "      <td>1</td>\n",
              "      <td>004354-0</td>\n",
              "      <td>2009</td>\n",
              "      <td>10</td>\n",
              "      <td>11</td>\n",
              "      <td>...</td>\n",
              "      <td>0</td>\n",
              "      <td>0.0</td>\n",
              "      <td>0</td>\n",
              "      <td>20201016</td>\n",
              "      <td>20201026</td>\n",
              "      <td>20201015</td>\n",
              "      <td>7</td>\n",
              "      <td>M</td>\n",
              "      <td>19740216</td>\n",
              "      <td>9371420</td>\n",
              "    </tr>\n",
              "    <tr>\n",
              "      <th>1</th>\n",
              "      <td>NaN</td>\n",
              "      <td>0000000000</td>\n",
              "      <td>0</td>\n",
              "      <td>1</td>\n",
              "      <td>1</td>\n",
              "      <td>1</td>\n",
              "      <td>004354-0</td>\n",
              "      <td>2009</td>\n",
              "      <td>10</td>\n",
              "      <td>11</td>\n",
              "      <td>...</td>\n",
              "      <td>0</td>\n",
              "      <td>0.0</td>\n",
              "      <td>0</td>\n",
              "      <td>20201017</td>\n",
              "      <td>20201026</td>\n",
              "      <td>20201016</td>\n",
              "      <td>7</td>\n",
              "      <td>M</td>\n",
              "      <td>19740216</td>\n",
              "      <td>9371420</td>\n",
              "    </tr>\n",
              "    <tr>\n",
              "      <th>2</th>\n",
              "      <td>NaN</td>\n",
              "      <td>0000000000</td>\n",
              "      <td>0</td>\n",
              "      <td>1</td>\n",
              "      <td>1</td>\n",
              "      <td>1</td>\n",
              "      <td>004354-0</td>\n",
              "      <td>2009</td>\n",
              "      <td>10</td>\n",
              "      <td>11</td>\n",
              "      <td>...</td>\n",
              "      <td>0</td>\n",
              "      <td>0.0</td>\n",
              "      <td>0</td>\n",
              "      <td>20201017</td>\n",
              "      <td>20201105</td>\n",
              "      <td>20201016</td>\n",
              "      <td>7</td>\n",
              "      <td>M</td>\n",
              "      <td>19740216</td>\n",
              "      <td>9030620</td>\n",
              "    </tr>\n",
              "    <tr>\n",
              "      <th>3</th>\n",
              "      <td>NaN</td>\n",
              "      <td>0000000000</td>\n",
              "      <td>0</td>\n",
              "      <td>1</td>\n",
              "      <td>1</td>\n",
              "      <td>1</td>\n",
              "      <td>004354-0</td>\n",
              "      <td>2009</td>\n",
              "      <td>10</td>\n",
              "      <td>11</td>\n",
              "      <td>...</td>\n",
              "      <td>0</td>\n",
              "      <td>0.0</td>\n",
              "      <td>0</td>\n",
              "      <td>20200812</td>\n",
              "      <td>20200819</td>\n",
              "      <td>20200811</td>\n",
              "      <td>7</td>\n",
              "      <td>M</td>\n",
              "      <td>19740216</td>\n",
              "      <td>9371520</td>\n",
              "    </tr>\n",
              "    <tr>\n",
              "      <th>4</th>\n",
              "      <td>NaN</td>\n",
              "      <td>0000000000</td>\n",
              "      <td>0</td>\n",
              "      <td>1</td>\n",
              "      <td>1</td>\n",
              "      <td>1</td>\n",
              "      <td>004354-0</td>\n",
              "      <td>2009</td>\n",
              "      <td>10</td>\n",
              "      <td>11</td>\n",
              "      <td>...</td>\n",
              "      <td>0</td>\n",
              "      <td>0.0</td>\n",
              "      <td>0</td>\n",
              "      <td>20200812</td>\n",
              "      <td>20200819</td>\n",
              "      <td>20200811</td>\n",
              "      <td>7</td>\n",
              "      <td>M</td>\n",
              "      <td>19740216</td>\n",
              "      <td>0</td>\n",
              "    </tr>\n",
              "  </tbody>\n",
              "</table>\n",
              "<p>5 rows × 24 columns</p>\n",
              "</div>"
            ],
            "text/plain": [
              "   cod_apo     ENDOSSO  ITEM  MODALIDADE  TIPO_PROD  COBERTURA COD_MODELO  \\\n",
              "0      NaN  0000000000     0           1          1          1   004354-0   \n",
              "1      NaN  0000000000     0           1          1          1   004354-0   \n",
              "2      NaN  0000000000     0           1          1          1   004354-0   \n",
              "3      NaN  0000000000     0           1          1          1   004354-0   \n",
              "4      NaN  0000000000     0           1          1          1   004354-0   \n",
              "\n",
              "   ANO_MODELO COD_TARIF REGIAO  ...  D_SALVADO  VAL_RESS  D_RESS     D_AVI  \\\n",
              "0        2009        10     11  ...          0       0.0       0  20201016   \n",
              "1        2009        10     11  ...          0       0.0       0  20201017   \n",
              "2        2009        10     11  ...          0       0.0       0  20201017   \n",
              "3        2009        10     11  ...          0       0.0       0  20200812   \n",
              "4        2009        10     11  ...          0       0.0       0  20200812   \n",
              "\n",
              "      D_LIQ   D_OCORR  CAUSA  SEXO    D_NASC      CEP  \n",
              "0  20201026  20201015      7     M  19740216  9371420  \n",
              "1  20201026  20201016      7     M  19740216  9371420  \n",
              "2  20201105  20201016      7     M  19740216  9030620  \n",
              "3  20200819  20200811      7     M  19740216  9371520  \n",
              "4  20200819  20200811      7     M  19740216        0  \n",
              "\n",
              "[5 rows x 24 columns]"
            ]
          },
          "execution_count": 24,
          "metadata": {},
          "output_type": "execute_result"
        }
      ],
      "source": [
        "df = pd.read_csv(\"D:\\Projetos\\Previsao_valor_seguro\\PrevisaoValorSeguro\\Data\\S_AUTO_2021A.csv\", sep=';',decimal=',')\n",
        "df.head()"
      ]
    },
    {
      "cell_type": "markdown",
      "metadata": {},
      "source": [
        "# DATA PREPARATION I\n",
        "\n",
        "O objetivo dessa seção é compreender quais dados serão úteis para seguir com as análises descritivas, e modelagem. Além de compreender se os dados estão no formato correto, se existe ocorrência de dados nulos, duplicados."
      ]
    },
    {
      "cell_type": "code",
      "execution_count": 25,
      "metadata": {
        "colab": {
          "base_uri": "https://localhost:8080/"
        },
        "id": "_hZrMz3bFXCT",
        "outputId": "69418ecb-c1a8-4d2e-af71-c5caf4a8bab2"
      },
      "outputs": [
        {
          "name": "stdout",
          "output_type": "stream",
          "text": [
            "<class 'pandas.core.frame.DataFrame'>\n",
            "RangeIndex: 3747647 entries, 0 to 3747646\n",
            "Data columns (total 24 columns):\n",
            " #   Column      Dtype  \n",
            "---  ------      -----  \n",
            " 0   cod_apo     float64\n",
            " 1   ENDOSSO     object \n",
            " 2   ITEM        int64  \n",
            " 3   MODALIDADE  int64  \n",
            " 4   TIPO_PROD   int64  \n",
            " 5   COBERTURA   int64  \n",
            " 6   COD_MODELO  object \n",
            " 7   ANO_MODELO  int64  \n",
            " 8   COD_TARIF   object \n",
            " 9   REGIAO      object \n",
            " 10  COD_CONT    int64  \n",
            " 11  EVENTO      int64  \n",
            " 12  INDENIZ     float64\n",
            " 13  VAL_SALVAD  float64\n",
            " 14  D_SALVADO   int64  \n",
            " 15  VAL_RESS    float64\n",
            " 16  D_RESS      int64  \n",
            " 17  D_AVI       int64  \n",
            " 18  D_LIQ       int64  \n",
            " 19  D_OCORR     int64  \n",
            " 20  CAUSA       int64  \n",
            " 21  SEXO        object \n",
            " 22  D_NASC      int64  \n",
            " 23  CEP         int64  \n",
            "dtypes: float64(4), int64(15), object(5)\n",
            "memory usage: 686.2+ MB\n"
          ]
        }
      ],
      "source": [
        "df.info()"
      ]
    },
    {
      "cell_type": "markdown",
      "metadata": {},
      "source": [
        "Verifiquei que todos os dados estão no formato correto, com exceção das Datas. Porém de todas as datas disponíbilizadas a única relevante para nosso modelo nesse momento é a data de nascimento, já que nos ajuda a identificar o perfil do segurado. Converterei essa data para idade, levando em consideração a diferença entre o dia de hoje e o dia do nascimento, e o restante será descartado. Em seguida irei identificar a presença de dados duplicados, nulos e zeros."
      ]
    },
    {
      "cell_type": "code",
      "execution_count": 26,
      "metadata": {},
      "outputs": [
        {
          "data": {
            "text/plain": [
              "cod_apo       1131767\n",
              "ENDOSSO             0\n",
              "ITEM                0\n",
              "MODALIDADE          0\n",
              "TIPO_PROD           0\n",
              "COBERTURA           0\n",
              "COD_MODELO          1\n",
              "ANO_MODELO          0\n",
              "COD_TARIF           0\n",
              "REGIAO              0\n",
              "COD_CONT            0\n",
              "EVENTO              0\n",
              "INDENIZ             0\n",
              "VAL_SALVAD          0\n",
              "D_SALVADO           0\n",
              "VAL_RESS            0\n",
              "D_RESS              0\n",
              "D_AVI               0\n",
              "D_LIQ               0\n",
              "D_OCORR             0\n",
              "CAUSA               0\n",
              "SEXO                0\n",
              "D_NASC              0\n",
              "CEP                 0\n",
              "dtype: int64"
            ]
          },
          "execution_count": 26,
          "metadata": {},
          "output_type": "execute_result"
        }
      ],
      "source": [
        "#Nulos\n",
        "df.isnull().sum()"
      ]
    },
    {
      "cell_type": "markdown",
      "metadata": {},
      "source": [
        "Como apenas a primeira coluna possui dados nulos e ela não é relevante para nossa análise e modelo, ela também será descartada. A seguir será realizado a compreensão de quantos % do Dataframe é composto por valores zerados, e quais tratamentos serão aplicados para esses casos. (Lembrando que em colunas booleanas ou que contenha o 0 como código, um valor elevado de zeros pode ser normal.)"
      ]
    },
    {
      "cell_type": "code",
      "execution_count": 33,
      "metadata": {},
      "outputs": [
        {
          "data": {
            "text/plain": [
              "cod_apo        0.00\n",
              "ENDOSSO        1.65\n",
              "ITEM          51.50\n",
              "MODALIDADE     0.00\n",
              "TIPO_PROD      0.00\n",
              "COBERTURA      0.00\n",
              "COD_MODELO     0.00\n",
              "ANO_MODELO     0.10\n",
              "COD_TARIF      0.00\n",
              "REGIAO         0.01\n",
              "COD_CONT       0.00\n",
              "EVENTO         0.03\n",
              "INDENIZ        1.15\n",
              "VAL_SALVAD    98.22\n",
              "D_SALVADO     98.58\n",
              "VAL_RESS      99.84\n",
              "D_RESS        99.88\n",
              "D_AVI          0.00\n",
              "D_LIQ         25.28\n",
              "D_OCORR        0.00\n",
              "CAUSA          0.00\n",
              "SEXO           0.00\n",
              "D_NASC        14.86\n",
              "CEP            9.09\n",
              "dtype: float64"
            ]
          },
          "execution_count": 33,
          "metadata": {},
          "output_type": "execute_result"
        }
      ],
      "source": [
        "round((df.apply(lambda x: (x == 0).sum()) / len(df)) * 100, 2)"
      ]
    },
    {
      "cell_type": "code",
      "execution_count": 10,
      "metadata": {},
      "outputs": [
        {
          "name": "stdout",
          "output_type": "stream",
          "text": [
            "Total de Dados Duplicados: 48363\n",
            "Dados duplicados removidos\n"
          ]
        }
      ],
      "source": [
        "#Duplicados\n",
        "\n",
        "print(f'Total de Dados Duplicados: {df.duplicated().sum()}')\n",
        "\n",
        "df.drop_duplicates(inplace=True)\n",
        "\n",
        "print('Dados duplicados removidos')"
      ]
    },
    {
      "cell_type": "markdown",
      "metadata": {},
      "source": [
        "## FEATURE ENGINEERING \n",
        "\n",
        "Buscando criar novas variáveis descritivas que podem ser importantes para o modelo, será realizado um processo de feature engineering, com objetivo de criar a váriavel idade do cliente (a partir da coluna da data do nascimento) e a váriável de cidade (a partir da coluna CEP)."
      ]
    },
    {
      "cell_type": "code",
      "execution_count": 16,
      "metadata": {},
      "outputs": [],
      "source": [
        "df['D_NASC'] = pd.to_datetime(df['D_NASC'],format='%Y%m%d',errors='coerce')"
      ]
    },
    {
      "cell_type": "code",
      "execution_count": 18,
      "metadata": {},
      "outputs": [
        {
          "data": {
            "text/plain": [
              "553292"
            ]
          },
          "execution_count": 18,
          "metadata": {},
          "output_type": "execute_result"
        }
      ],
      "source": [
        "df['D_NASC'].isnull().sum()"
      ]
    },
    {
      "cell_type": "markdown",
      "metadata": {},
      "source": [
        "# EDA"
      ]
    },
    {
      "cell_type": "markdown",
      "metadata": {},
      "source": [
        "Perguntas para EDA:\n",
        "\n",
        "A causa gerá impacto em relação ao valor da indenização?\n",
        "\n",
        "E o modelo do carro?"
      ]
    }
  ],
  "metadata": {
    "colab": {
      "provenance": [],
      "toc_visible": true
    },
    "kernelspec": {
      "display_name": "Python 3",
      "name": "python3"
    },
    "language_info": {
      "codemirror_mode": {
        "name": "ipython",
        "version": 3
      },
      "file_extension": ".py",
      "mimetype": "text/x-python",
      "name": "python",
      "nbconvert_exporter": "python",
      "pygments_lexer": "ipython3",
      "version": "3.11.5"
    }
  },
  "nbformat": 4,
  "nbformat_minor": 0
}
