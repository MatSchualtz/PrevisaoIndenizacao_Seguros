{
  "cells": [
    {
      "cell_type": "markdown",
      "metadata": {
        "id": "3XagQgF8Fauw"
      },
      "source": [
        "# SETUP"
      ]
    },
    {
      "cell_type": "code",
      "execution_count": 1,
      "metadata": {
        "id": "d53VfN0FT5K0"
      },
      "outputs": [],
      "source": [
        "#Análise de Dados\n",
        "\n",
        "import pandas as pd\n",
        "import numpy as np\n",
        "\n",
        "#Análise Gráfica\n",
        "\n",
        "import matplotlib.pyplot as plt\n",
        "import matplotlib.gridspec as gridspec\n",
        "import seaborn as sns\n",
        "\n",
        "#Análise Estátistica\n",
        "\n",
        "import statsmodels.formula.api as smf\n",
        "\n",
        "#ML\n",
        "\n",
        "from sklearn.model_selection import train_test_split, GridSearchCV\n",
        "from sklearn.linear_model import LinearRegression\n",
        "from sklearn import metrics\n",
        "from sklearn.preprocessing import MinMaxScaler, power_transform\n",
        "from sklearn.tree import DecisionTreeRegressor\n",
        "from sklearn.ensemble import RandomForestRegressor, AdaBoostRegressor, GradientBoostingRegressor"
      ]
    },
    {
      "cell_type": "code",
      "execution_count": 11,
      "metadata": {
        "colab": {
          "base_uri": "https://localhost:8080/",
          "height": 206
        },
        "id": "2qwb-szsVsbV",
        "outputId": "1df530dc-e2d5-42d3-fcbd-dee55c452f15"
      },
      "outputs": [
        {
          "name": "stderr",
          "output_type": "stream",
          "text": [
            "C:\\Users\\mateus.schualtz\\AppData\\Local\\Temp\\ipykernel_5716\\2994325202.py:1: DtypeWarning: Columns (1,9,13,15) have mixed types. Specify dtype option on import or set low_memory=False.\n",
            "  df = pd.read_csv(\"D:\\Projetos\\Previsao_valor_seguro\\PrevisaoValorSeguro\\Data\\S_AUTO_2021A.csv\", sep=';')\n"
          ]
        },
        {
          "data": {
            "text/html": [
              "<div>\n",
              "<style scoped>\n",
              "    .dataframe tbody tr th:only-of-type {\n",
              "        vertical-align: middle;\n",
              "    }\n",
              "\n",
              "    .dataframe tbody tr th {\n",
              "        vertical-align: top;\n",
              "    }\n",
              "\n",
              "    .dataframe thead th {\n",
              "        text-align: right;\n",
              "    }\n",
              "</style>\n",
              "<table border=\"1\" class=\"dataframe\">\n",
              "  <thead>\n",
              "    <tr style=\"text-align: right;\">\n",
              "      <th></th>\n",
              "      <th>cod_apo</th>\n",
              "      <th>ENDOSSO</th>\n",
              "      <th>ITEM</th>\n",
              "      <th>MODALIDADE</th>\n",
              "      <th>TIPO_PROD</th>\n",
              "      <th>COBERTURA</th>\n",
              "      <th>COD_MODELO</th>\n",
              "      <th>ANO_MODELO</th>\n",
              "      <th>COD_TARIF</th>\n",
              "      <th>REGIAO</th>\n",
              "      <th>...</th>\n",
              "      <th>D_SALVADO</th>\n",
              "      <th>VAL_RESS</th>\n",
              "      <th>D_RESS</th>\n",
              "      <th>D_AVI</th>\n",
              "      <th>D_LIQ</th>\n",
              "      <th>D_OCORR</th>\n",
              "      <th>CAUSA</th>\n",
              "      <th>SEXO</th>\n",
              "      <th>D_NASC</th>\n",
              "      <th>CEP</th>\n",
              "    </tr>\n",
              "  </thead>\n",
              "  <tbody>\n",
              "    <tr>\n",
              "      <th>0</th>\n",
              "      <td>NaN</td>\n",
              "      <td>0000000000</td>\n",
              "      <td>0</td>\n",
              "      <td>1</td>\n",
              "      <td>1</td>\n",
              "      <td>1</td>\n",
              "      <td>004354-0</td>\n",
              "      <td>2009</td>\n",
              "      <td>10</td>\n",
              "      <td>11</td>\n",
              "      <td>...</td>\n",
              "      <td>0</td>\n",
              "      <td>0</td>\n",
              "      <td>0</td>\n",
              "      <td>20201016</td>\n",
              "      <td>20201026</td>\n",
              "      <td>20201015</td>\n",
              "      <td>7</td>\n",
              "      <td>M</td>\n",
              "      <td>19740216</td>\n",
              "      <td>9371420</td>\n",
              "    </tr>\n",
              "    <tr>\n",
              "      <th>1</th>\n",
              "      <td>NaN</td>\n",
              "      <td>0000000000</td>\n",
              "      <td>0</td>\n",
              "      <td>1</td>\n",
              "      <td>1</td>\n",
              "      <td>1</td>\n",
              "      <td>004354-0</td>\n",
              "      <td>2009</td>\n",
              "      <td>10</td>\n",
              "      <td>11</td>\n",
              "      <td>...</td>\n",
              "      <td>0</td>\n",
              "      <td>0</td>\n",
              "      <td>0</td>\n",
              "      <td>20201017</td>\n",
              "      <td>20201026</td>\n",
              "      <td>20201016</td>\n",
              "      <td>7</td>\n",
              "      <td>M</td>\n",
              "      <td>19740216</td>\n",
              "      <td>9371420</td>\n",
              "    </tr>\n",
              "    <tr>\n",
              "      <th>2</th>\n",
              "      <td>NaN</td>\n",
              "      <td>0000000000</td>\n",
              "      <td>0</td>\n",
              "      <td>1</td>\n",
              "      <td>1</td>\n",
              "      <td>1</td>\n",
              "      <td>004354-0</td>\n",
              "      <td>2009</td>\n",
              "      <td>10</td>\n",
              "      <td>11</td>\n",
              "      <td>...</td>\n",
              "      <td>0</td>\n",
              "      <td>0</td>\n",
              "      <td>0</td>\n",
              "      <td>20201017</td>\n",
              "      <td>20201105</td>\n",
              "      <td>20201016</td>\n",
              "      <td>7</td>\n",
              "      <td>M</td>\n",
              "      <td>19740216</td>\n",
              "      <td>9030620</td>\n",
              "    </tr>\n",
              "    <tr>\n",
              "      <th>3</th>\n",
              "      <td>NaN</td>\n",
              "      <td>0000000000</td>\n",
              "      <td>0</td>\n",
              "      <td>1</td>\n",
              "      <td>1</td>\n",
              "      <td>1</td>\n",
              "      <td>004354-0</td>\n",
              "      <td>2009</td>\n",
              "      <td>10</td>\n",
              "      <td>11</td>\n",
              "      <td>...</td>\n",
              "      <td>0</td>\n",
              "      <td>0</td>\n",
              "      <td>0</td>\n",
              "      <td>20200812</td>\n",
              "      <td>20200819</td>\n",
              "      <td>20200811</td>\n",
              "      <td>7</td>\n",
              "      <td>M</td>\n",
              "      <td>19740216</td>\n",
              "      <td>9371520</td>\n",
              "    </tr>\n",
              "    <tr>\n",
              "      <th>4</th>\n",
              "      <td>NaN</td>\n",
              "      <td>0000000000</td>\n",
              "      <td>0</td>\n",
              "      <td>1</td>\n",
              "      <td>1</td>\n",
              "      <td>1</td>\n",
              "      <td>004354-0</td>\n",
              "      <td>2009</td>\n",
              "      <td>10</td>\n",
              "      <td>11</td>\n",
              "      <td>...</td>\n",
              "      <td>0</td>\n",
              "      <td>0</td>\n",
              "      <td>0</td>\n",
              "      <td>20200812</td>\n",
              "      <td>20200819</td>\n",
              "      <td>20200811</td>\n",
              "      <td>7</td>\n",
              "      <td>M</td>\n",
              "      <td>19740216</td>\n",
              "      <td>0</td>\n",
              "    </tr>\n",
              "  </tbody>\n",
              "</table>\n",
              "<p>5 rows × 24 columns</p>\n",
              "</div>"
            ],
            "text/plain": [
              "   cod_apo     ENDOSSO  ITEM  MODALIDADE  TIPO_PROD  COBERTURA COD_MODELO  \\\n",
              "0      NaN  0000000000     0           1          1          1   004354-0   \n",
              "1      NaN  0000000000     0           1          1          1   004354-0   \n",
              "2      NaN  0000000000     0           1          1          1   004354-0   \n",
              "3      NaN  0000000000     0           1          1          1   004354-0   \n",
              "4      NaN  0000000000     0           1          1          1   004354-0   \n",
              "\n",
              "   ANO_MODELO COD_TARIF REGIAO  ...  D_SALVADO  VAL_RESS D_RESS     D_AVI  \\\n",
              "0        2009        10     11  ...          0         0      0  20201016   \n",
              "1        2009        10     11  ...          0         0      0  20201017   \n",
              "2        2009        10     11  ...          0         0      0  20201017   \n",
              "3        2009        10     11  ...          0         0      0  20200812   \n",
              "4        2009        10     11  ...          0         0      0  20200812   \n",
              "\n",
              "      D_LIQ   D_OCORR  CAUSA  SEXO    D_NASC      CEP  \n",
              "0  20201026  20201015      7     M  19740216  9371420  \n",
              "1  20201026  20201016      7     M  19740216  9371420  \n",
              "2  20201105  20201016      7     M  19740216  9030620  \n",
              "3  20200819  20200811      7     M  19740216  9371520  \n",
              "4  20200819  20200811      7     M  19740216        0  \n",
              "\n",
              "[5 rows x 24 columns]"
            ]
          },
          "execution_count": 11,
          "metadata": {},
          "output_type": "execute_result"
        }
      ],
      "source": [
        "df = pd.read_csv(\"D:\\Projetos\\Previsao_valor_seguro\\PrevisaoValorSeguro\\Data\\S_AUTO_2021A.csv\", sep=';')\n",
        "df.head()"
      ]
    },
    {
      "cell_type": "markdown",
      "metadata": {
        "id": "z2BdxCNpFctx"
      },
      "source": [
        "# EDA"
      ]
    },
    {
      "cell_type": "code",
      "execution_count": 16,
      "metadata": {
        "colab": {
          "base_uri": "https://localhost:8080/"
        },
        "id": "_hZrMz3bFXCT",
        "outputId": "69418ecb-c1a8-4d2e-af71-c5caf4a8bab2"
      },
      "outputs": [
        {
          "name": "stdout",
          "output_type": "stream",
          "text": [
            "<class 'pandas.core.frame.DataFrame'>\n",
            "RangeIndex: 3747647 entries, 0 to 3747646\n",
            "Data columns (total 24 columns):\n",
            " #   Column      Dtype  \n",
            "---  ------      -----  \n",
            " 0   cod_apo     float64\n",
            " 1   ENDOSSO     object \n",
            " 2   ITEM        int64  \n",
            " 3   MODALIDADE  int64  \n",
            " 4   TIPO_PROD   int64  \n",
            " 5   COBERTURA   int64  \n",
            " 6   COD_MODELO  object \n",
            " 7   ANO_MODELO  int64  \n",
            " 8   COD_TARIF   object \n",
            " 9   REGIAO      object \n",
            " 10  COD_CONT    int64  \n",
            " 11  EVENTO      int64  \n",
            " 12  INDENIZ     object \n",
            " 13  VAL_SALVAD  object \n",
            " 14  D_SALVADO   int64  \n",
            " 15  VAL_RESS    object \n",
            " 16  D_RESS      int64  \n",
            " 17  D_AVI       int64  \n",
            " 18  D_LIQ       int64  \n",
            " 19  D_OCORR     int64  \n",
            " 20  CAUSA       int64  \n",
            " 21  SEXO        object \n",
            " 22  D_NASC      int64  \n",
            " 23  CEP         int64  \n",
            "dtypes: float64(1), int64(15), object(8)\n",
            "memory usage: 686.2+ MB\n"
          ]
        }
      ],
      "source": [
        "df.info()"
      ]
    },
    {
      "cell_type": "code",
      "execution_count": null,
      "metadata": {
        "id": "pt31FTYhHO4p"
      },
      "outputs": [],
      "source": [
        "#Removendo Dados Nulos\n",
        "\n",
        "df.dropna(inplace=True)"
      ]
    },
    {
      "cell_type": "markdown",
      "metadata": {
        "id": "uirW3SyeIG3d"
      },
      "source": [
        "## Transformando Váriaiveis Categóricas em numéricas"
      ]
    },
    {
      "cell_type": "markdown",
      "metadata": {
        "id": "dLmvqvg_HaNR"
      },
      "source": [
        "Identificado a necessidade de transformar váriaveis categóricas em numéricas. A seguir será verificado cada categoria para entender qual método é melhor de se utilizar."
      ]
    },
    {
      "cell_type": "code",
      "execution_count": null,
      "metadata": {
        "colab": {
          "base_uri": "https://localhost:8080/"
        },
        "id": "gh7pMxk4HWNW",
        "outputId": "b4233c9d-da31-49c9-94d3-fc3dd1897fd4"
      },
      "outputs": [
        {
          "name": "stdout",
          "output_type": "stream",
          "text": [
            "['southwest' 'southeast' 'northwest' 'northeast']\n",
            "['female' 'male']\n",
            "['yes' 'no']\n"
          ]
        }
      ],
      "source": [
        "print(df['regiao'].unique())\n",
        "print(df['sexo'].unique())\n",
        "print(df['fumante'].unique())"
      ]
    },
    {
      "cell_type": "markdown",
      "metadata": {
        "id": "hPMDJA4fI9W1"
      },
      "source": [
        "Como a ordem das váriaivies não possui relevância, vou transformar as váriaveis em dummies."
      ]
    },
    {
      "cell_type": "code",
      "execution_count": null,
      "metadata": {
        "id": "C9QNSf_OIskD"
      },
      "outputs": [],
      "source": [
        "df = pd.get_dummies(df)"
      ]
    },
    {
      "cell_type": "markdown",
      "metadata": {
        "id": "WPQU1Ko-M5Ul"
      },
      "source": [
        "## Compreendendo se é necessário a normalização."
      ]
    },
    {
      "cell_type": "code",
      "execution_count": null,
      "metadata": {
        "colab": {
          "base_uri": "https://localhost:8080/",
          "height": 364
        },
        "id": "_bZ4J6LAM1Ev",
        "outputId": "7bdbd99f-fb47-423b-fdb8-fa9c08c9727f"
      },
      "outputs": [
        {
          "data": {
            "text/html": [
              "\n",
              "  <div id=\"df-5e4379c8-343e-4948-8e36-7d0b275792f6\">\n",
              "    <div class=\"colab-df-container\">\n",
              "      <div>\n",
              "<style scoped>\n",
              "    .dataframe tbody tr th:only-of-type {\n",
              "        vertical-align: middle;\n",
              "    }\n",
              "\n",
              "    .dataframe tbody tr th {\n",
              "        vertical-align: top;\n",
              "    }\n",
              "\n",
              "    .dataframe thead th {\n",
              "        text-align: right;\n",
              "    }\n",
              "</style>\n",
              "<table border=\"1\" class=\"dataframe\">\n",
              "  <thead>\n",
              "    <tr style=\"text-align: right;\">\n",
              "      <th></th>\n",
              "      <th>idade</th>\n",
              "      <th>imc</th>\n",
              "      <th>quantidade_filhos</th>\n",
              "      <th>custos_seguro</th>\n",
              "      <th>sexo_female</th>\n",
              "      <th>sexo_male</th>\n",
              "      <th>fumante_no</th>\n",
              "      <th>fumante_yes</th>\n",
              "      <th>regiao_northeast</th>\n",
              "      <th>regiao_northwest</th>\n",
              "      <th>regiao_southeast</th>\n",
              "      <th>regiao_southwest</th>\n",
              "    </tr>\n",
              "  </thead>\n",
              "  <tbody>\n",
              "    <tr>\n",
              "      <th>count</th>\n",
              "      <td>1338.000000</td>\n",
              "      <td>1338.000000</td>\n",
              "      <td>1338.000000</td>\n",
              "      <td>1338.000000</td>\n",
              "      <td>1338.000000</td>\n",
              "      <td>1338.000000</td>\n",
              "      <td>1338.000000</td>\n",
              "      <td>1338.000000</td>\n",
              "      <td>1338.000000</td>\n",
              "      <td>1338.000000</td>\n",
              "      <td>1338.000000</td>\n",
              "      <td>1338.000000</td>\n",
              "    </tr>\n",
              "    <tr>\n",
              "      <th>mean</th>\n",
              "      <td>39.207025</td>\n",
              "      <td>30.663815</td>\n",
              "      <td>1.094918</td>\n",
              "      <td>13270.422265</td>\n",
              "      <td>0.494768</td>\n",
              "      <td>0.505232</td>\n",
              "      <td>0.795217</td>\n",
              "      <td>0.204783</td>\n",
              "      <td>0.242152</td>\n",
              "      <td>0.242900</td>\n",
              "      <td>0.272048</td>\n",
              "      <td>0.242900</td>\n",
              "    </tr>\n",
              "    <tr>\n",
              "      <th>std</th>\n",
              "      <td>14.049960</td>\n",
              "      <td>6.098367</td>\n",
              "      <td>1.205493</td>\n",
              "      <td>12110.011237</td>\n",
              "      <td>0.500160</td>\n",
              "      <td>0.500160</td>\n",
              "      <td>0.403694</td>\n",
              "      <td>0.403694</td>\n",
              "      <td>0.428546</td>\n",
              "      <td>0.428995</td>\n",
              "      <td>0.445181</td>\n",
              "      <td>0.428995</td>\n",
              "    </tr>\n",
              "    <tr>\n",
              "      <th>min</th>\n",
              "      <td>18.000000</td>\n",
              "      <td>15.960000</td>\n",
              "      <td>0.000000</td>\n",
              "      <td>1121.873900</td>\n",
              "      <td>0.000000</td>\n",
              "      <td>0.000000</td>\n",
              "      <td>0.000000</td>\n",
              "      <td>0.000000</td>\n",
              "      <td>0.000000</td>\n",
              "      <td>0.000000</td>\n",
              "      <td>0.000000</td>\n",
              "      <td>0.000000</td>\n",
              "    </tr>\n",
              "    <tr>\n",
              "      <th>25%</th>\n",
              "      <td>27.000000</td>\n",
              "      <td>26.296250</td>\n",
              "      <td>0.000000</td>\n",
              "      <td>4740.287150</td>\n",
              "      <td>0.000000</td>\n",
              "      <td>0.000000</td>\n",
              "      <td>1.000000</td>\n",
              "      <td>0.000000</td>\n",
              "      <td>0.000000</td>\n",
              "      <td>0.000000</td>\n",
              "      <td>0.000000</td>\n",
              "      <td>0.000000</td>\n",
              "    </tr>\n",
              "    <tr>\n",
              "      <th>50%</th>\n",
              "      <td>39.000000</td>\n",
              "      <td>30.400000</td>\n",
              "      <td>1.000000</td>\n",
              "      <td>9382.033000</td>\n",
              "      <td>0.000000</td>\n",
              "      <td>1.000000</td>\n",
              "      <td>1.000000</td>\n",
              "      <td>0.000000</td>\n",
              "      <td>0.000000</td>\n",
              "      <td>0.000000</td>\n",
              "      <td>0.000000</td>\n",
              "      <td>0.000000</td>\n",
              "    </tr>\n",
              "    <tr>\n",
              "      <th>75%</th>\n",
              "      <td>51.000000</td>\n",
              "      <td>34.693750</td>\n",
              "      <td>2.000000</td>\n",
              "      <td>16639.912515</td>\n",
              "      <td>1.000000</td>\n",
              "      <td>1.000000</td>\n",
              "      <td>1.000000</td>\n",
              "      <td>0.000000</td>\n",
              "      <td>0.000000</td>\n",
              "      <td>0.000000</td>\n",
              "      <td>1.000000</td>\n",
              "      <td>0.000000</td>\n",
              "    </tr>\n",
              "    <tr>\n",
              "      <th>max</th>\n",
              "      <td>64.000000</td>\n",
              "      <td>53.130000</td>\n",
              "      <td>5.000000</td>\n",
              "      <td>63770.428010</td>\n",
              "      <td>1.000000</td>\n",
              "      <td>1.000000</td>\n",
              "      <td>1.000000</td>\n",
              "      <td>1.000000</td>\n",
              "      <td>1.000000</td>\n",
              "      <td>1.000000</td>\n",
              "      <td>1.000000</td>\n",
              "      <td>1.000000</td>\n",
              "    </tr>\n",
              "  </tbody>\n",
              "</table>\n",
              "</div>\n",
              "      <button class=\"colab-df-convert\" onclick=\"convertToInteractive('df-5e4379c8-343e-4948-8e36-7d0b275792f6')\"\n",
              "              title=\"Convert this dataframe to an interactive table.\"\n",
              "              style=\"display:none;\">\n",
              "        \n",
              "  <svg xmlns=\"http://www.w3.org/2000/svg\" height=\"24px\"viewBox=\"0 0 24 24\"\n",
              "       width=\"24px\">\n",
              "    <path d=\"M0 0h24v24H0V0z\" fill=\"none\"/>\n",
              "    <path d=\"M18.56 5.44l.94 2.06.94-2.06 2.06-.94-2.06-.94-.94-2.06-.94 2.06-2.06.94zm-11 1L8.5 8.5l.94-2.06 2.06-.94-2.06-.94L8.5 2.5l-.94 2.06-2.06.94zm10 10l.94 2.06.94-2.06 2.06-.94-2.06-.94-.94-2.06-.94 2.06-2.06.94z\"/><path d=\"M17.41 7.96l-1.37-1.37c-.4-.4-.92-.59-1.43-.59-.52 0-1.04.2-1.43.59L10.3 9.45l-7.72 7.72c-.78.78-.78 2.05 0 2.83L4 21.41c.39.39.9.59 1.41.59.51 0 1.02-.2 1.41-.59l7.78-7.78 2.81-2.81c.8-.78.8-2.07 0-2.86zM5.41 20L4 18.59l7.72-7.72 1.47 1.35L5.41 20z\"/>\n",
              "  </svg>\n",
              "      </button>\n",
              "      \n",
              "  <style>\n",
              "    .colab-df-container {\n",
              "      display:flex;\n",
              "      flex-wrap:wrap;\n",
              "      gap: 12px;\n",
              "    }\n",
              "\n",
              "    .colab-df-convert {\n",
              "      background-color: #E8F0FE;\n",
              "      border: none;\n",
              "      border-radius: 50%;\n",
              "      cursor: pointer;\n",
              "      display: none;\n",
              "      fill: #1967D2;\n",
              "      height: 32px;\n",
              "      padding: 0 0 0 0;\n",
              "      width: 32px;\n",
              "    }\n",
              "\n",
              "    .colab-df-convert:hover {\n",
              "      background-color: #E2EBFA;\n",
              "      box-shadow: 0px 1px 2px rgba(60, 64, 67, 0.3), 0px 1px 3px 1px rgba(60, 64, 67, 0.15);\n",
              "      fill: #174EA6;\n",
              "    }\n",
              "\n",
              "    [theme=dark] .colab-df-convert {\n",
              "      background-color: #3B4455;\n",
              "      fill: #D2E3FC;\n",
              "    }\n",
              "\n",
              "    [theme=dark] .colab-df-convert:hover {\n",
              "      background-color: #434B5C;\n",
              "      box-shadow: 0px 1px 3px 1px rgba(0, 0, 0, 0.15);\n",
              "      filter: drop-shadow(0px 1px 2px rgba(0, 0, 0, 0.3));\n",
              "      fill: #FFFFFF;\n",
              "    }\n",
              "  </style>\n",
              "\n",
              "      <script>\n",
              "        const buttonEl =\n",
              "          document.querySelector('#df-5e4379c8-343e-4948-8e36-7d0b275792f6 button.colab-df-convert');\n",
              "        buttonEl.style.display =\n",
              "          google.colab.kernel.accessAllowed ? 'block' : 'none';\n",
              "\n",
              "        async function convertToInteractive(key) {\n",
              "          const element = document.querySelector('#df-5e4379c8-343e-4948-8e36-7d0b275792f6');\n",
              "          const dataTable =\n",
              "            await google.colab.kernel.invokeFunction('convertToInteractive',\n",
              "                                                     [key], {});\n",
              "          if (!dataTable) return;\n",
              "\n",
              "          const docLinkHtml = 'Like what you see? Visit the ' +\n",
              "            '<a target=\"_blank\" href=https://colab.research.google.com/notebooks/data_table.ipynb>data table notebook</a>'\n",
              "            + ' to learn more about interactive tables.';\n",
              "          element.innerHTML = '';\n",
              "          dataTable['output_type'] = 'display_data';\n",
              "          await google.colab.output.renderOutput(dataTable, element);\n",
              "          const docLink = document.createElement('div');\n",
              "          docLink.innerHTML = docLinkHtml;\n",
              "          element.appendChild(docLink);\n",
              "        }\n",
              "      </script>\n",
              "    </div>\n",
              "  </div>\n",
              "  "
            ],
            "text/plain": [
              "             idade          imc  quantidade_filhos  custos_seguro  \\\n",
              "count  1338.000000  1338.000000        1338.000000    1338.000000   \n",
              "mean     39.207025    30.663815           1.094918   13270.422265   \n",
              "std      14.049960     6.098367           1.205493   12110.011237   \n",
              "min      18.000000    15.960000           0.000000    1121.873900   \n",
              "25%      27.000000    26.296250           0.000000    4740.287150   \n",
              "50%      39.000000    30.400000           1.000000    9382.033000   \n",
              "75%      51.000000    34.693750           2.000000   16639.912515   \n",
              "max      64.000000    53.130000           5.000000   63770.428010   \n",
              "\n",
              "       sexo_female    sexo_male   fumante_no  fumante_yes  regiao_northeast  \\\n",
              "count  1338.000000  1338.000000  1338.000000  1338.000000       1338.000000   \n",
              "mean      0.494768     0.505232     0.795217     0.204783          0.242152   \n",
              "std       0.500160     0.500160     0.403694     0.403694          0.428546   \n",
              "min       0.000000     0.000000     0.000000     0.000000          0.000000   \n",
              "25%       0.000000     0.000000     1.000000     0.000000          0.000000   \n",
              "50%       0.000000     1.000000     1.000000     0.000000          0.000000   \n",
              "75%       1.000000     1.000000     1.000000     0.000000          0.000000   \n",
              "max       1.000000     1.000000     1.000000     1.000000          1.000000   \n",
              "\n",
              "       regiao_northwest  regiao_southeast  regiao_southwest  \n",
              "count       1338.000000       1338.000000       1338.000000  \n",
              "mean           0.242900          0.272048          0.242900  \n",
              "std            0.428995          0.445181          0.428995  \n",
              "min            0.000000          0.000000          0.000000  \n",
              "25%            0.000000          0.000000          0.000000  \n",
              "50%            0.000000          0.000000          0.000000  \n",
              "75%            0.000000          1.000000          0.000000  \n",
              "max            1.000000          1.000000          1.000000  "
            ]
          },
          "execution_count": 49,
          "metadata": {},
          "output_type": "execute_result"
        }
      ],
      "source": [
        "df.describe()"
      ]
    },
    {
      "cell_type": "markdown",
      "metadata": {
        "id": "56Ni-sb1Ni3V"
      },
      "source": [
        "Os dados possuem medidas diferentes, dessa forma será necessário a normalização para que ao construir o modelo não exista ordem de grandeza."
      ]
    },
    {
      "cell_type": "code",
      "execution_count": null,
      "metadata": {
        "colab": {
          "base_uri": "https://localhost:8080/",
          "height": 270
        },
        "id": "vXAuv2djOueW",
        "outputId": "64770ebd-a525-45dd-8376-6df4b266d49a"
      },
      "outputs": [
        {
          "data": {
            "text/html": [
              "\n",
              "  <div id=\"df-ad941929-0f9b-4048-9564-8b2ea90c6675\">\n",
              "    <div class=\"colab-df-container\">\n",
              "      <div>\n",
              "<style scoped>\n",
              "    .dataframe tbody tr th:only-of-type {\n",
              "        vertical-align: middle;\n",
              "    }\n",
              "\n",
              "    .dataframe tbody tr th {\n",
              "        vertical-align: top;\n",
              "    }\n",
              "\n",
              "    .dataframe thead th {\n",
              "        text-align: right;\n",
              "    }\n",
              "</style>\n",
              "<table border=\"1\" class=\"dataframe\">\n",
              "  <thead>\n",
              "    <tr style=\"text-align: right;\">\n",
              "      <th></th>\n",
              "      <th>idade</th>\n",
              "      <th>imc</th>\n",
              "      <th>quantidade_filhos</th>\n",
              "      <th>custos_seguro</th>\n",
              "      <th>sexo_female</th>\n",
              "      <th>sexo_male</th>\n",
              "      <th>fumante_no</th>\n",
              "      <th>fumante_yes</th>\n",
              "      <th>regiao_northeast</th>\n",
              "      <th>regiao_northwest</th>\n",
              "      <th>regiao_southeast</th>\n",
              "      <th>regiao_southwest</th>\n",
              "    </tr>\n",
              "  </thead>\n",
              "  <tbody>\n",
              "    <tr>\n",
              "      <th>0</th>\n",
              "      <td>0.021739</td>\n",
              "      <td>0.321227</td>\n",
              "      <td>0.0</td>\n",
              "      <td>0.251611</td>\n",
              "      <td>1.0</td>\n",
              "      <td>0.0</td>\n",
              "      <td>0.0</td>\n",
              "      <td>1.0</td>\n",
              "      <td>0.0</td>\n",
              "      <td>0.0</td>\n",
              "      <td>0.0</td>\n",
              "      <td>1.0</td>\n",
              "    </tr>\n",
              "    <tr>\n",
              "      <th>1</th>\n",
              "      <td>0.000000</td>\n",
              "      <td>0.479150</td>\n",
              "      <td>0.2</td>\n",
              "      <td>0.009636</td>\n",
              "      <td>0.0</td>\n",
              "      <td>1.0</td>\n",
              "      <td>1.0</td>\n",
              "      <td>0.0</td>\n",
              "      <td>0.0</td>\n",
              "      <td>0.0</td>\n",
              "      <td>1.0</td>\n",
              "      <td>0.0</td>\n",
              "    </tr>\n",
              "    <tr>\n",
              "      <th>2</th>\n",
              "      <td>0.217391</td>\n",
              "      <td>0.473500</td>\n",
              "      <td>0.6</td>\n",
              "      <td>0.053115</td>\n",
              "      <td>0.0</td>\n",
              "      <td>1.0</td>\n",
              "      <td>1.0</td>\n",
              "      <td>0.0</td>\n",
              "      <td>0.0</td>\n",
              "      <td>0.0</td>\n",
              "      <td>1.0</td>\n",
              "      <td>0.0</td>\n",
              "    </tr>\n",
              "    <tr>\n",
              "      <th>3</th>\n",
              "      <td>0.326087</td>\n",
              "      <td>0.181464</td>\n",
              "      <td>0.0</td>\n",
              "      <td>0.333010</td>\n",
              "      <td>0.0</td>\n",
              "      <td>1.0</td>\n",
              "      <td>1.0</td>\n",
              "      <td>0.0</td>\n",
              "      <td>0.0</td>\n",
              "      <td>1.0</td>\n",
              "      <td>0.0</td>\n",
              "      <td>0.0</td>\n",
              "    </tr>\n",
              "    <tr>\n",
              "      <th>4</th>\n",
              "      <td>0.304348</td>\n",
              "      <td>0.347592</td>\n",
              "      <td>0.0</td>\n",
              "      <td>0.043816</td>\n",
              "      <td>0.0</td>\n",
              "      <td>1.0</td>\n",
              "      <td>1.0</td>\n",
              "      <td>0.0</td>\n",
              "      <td>0.0</td>\n",
              "      <td>1.0</td>\n",
              "      <td>0.0</td>\n",
              "      <td>0.0</td>\n",
              "    </tr>\n",
              "  </tbody>\n",
              "</table>\n",
              "</div>\n",
              "      <button class=\"colab-df-convert\" onclick=\"convertToInteractive('df-ad941929-0f9b-4048-9564-8b2ea90c6675')\"\n",
              "              title=\"Convert this dataframe to an interactive table.\"\n",
              "              style=\"display:none;\">\n",
              "        \n",
              "  <svg xmlns=\"http://www.w3.org/2000/svg\" height=\"24px\"viewBox=\"0 0 24 24\"\n",
              "       width=\"24px\">\n",
              "    <path d=\"M0 0h24v24H0V0z\" fill=\"none\"/>\n",
              "    <path d=\"M18.56 5.44l.94 2.06.94-2.06 2.06-.94-2.06-.94-.94-2.06-.94 2.06-2.06.94zm-11 1L8.5 8.5l.94-2.06 2.06-.94-2.06-.94L8.5 2.5l-.94 2.06-2.06.94zm10 10l.94 2.06.94-2.06 2.06-.94-2.06-.94-.94-2.06-.94 2.06-2.06.94z\"/><path d=\"M17.41 7.96l-1.37-1.37c-.4-.4-.92-.59-1.43-.59-.52 0-1.04.2-1.43.59L10.3 9.45l-7.72 7.72c-.78.78-.78 2.05 0 2.83L4 21.41c.39.39.9.59 1.41.59.51 0 1.02-.2 1.41-.59l7.78-7.78 2.81-2.81c.8-.78.8-2.07 0-2.86zM5.41 20L4 18.59l7.72-7.72 1.47 1.35L5.41 20z\"/>\n",
              "  </svg>\n",
              "      </button>\n",
              "      \n",
              "  <style>\n",
              "    .colab-df-container {\n",
              "      display:flex;\n",
              "      flex-wrap:wrap;\n",
              "      gap: 12px;\n",
              "    }\n",
              "\n",
              "    .colab-df-convert {\n",
              "      background-color: #E8F0FE;\n",
              "      border: none;\n",
              "      border-radius: 50%;\n",
              "      cursor: pointer;\n",
              "      display: none;\n",
              "      fill: #1967D2;\n",
              "      height: 32px;\n",
              "      padding: 0 0 0 0;\n",
              "      width: 32px;\n",
              "    }\n",
              "\n",
              "    .colab-df-convert:hover {\n",
              "      background-color: #E2EBFA;\n",
              "      box-shadow: 0px 1px 2px rgba(60, 64, 67, 0.3), 0px 1px 3px 1px rgba(60, 64, 67, 0.15);\n",
              "      fill: #174EA6;\n",
              "    }\n",
              "\n",
              "    [theme=dark] .colab-df-convert {\n",
              "      background-color: #3B4455;\n",
              "      fill: #D2E3FC;\n",
              "    }\n",
              "\n",
              "    [theme=dark] .colab-df-convert:hover {\n",
              "      background-color: #434B5C;\n",
              "      box-shadow: 0px 1px 3px 1px rgba(0, 0, 0, 0.15);\n",
              "      filter: drop-shadow(0px 1px 2px rgba(0, 0, 0, 0.3));\n",
              "      fill: #FFFFFF;\n",
              "    }\n",
              "  </style>\n",
              "\n",
              "      <script>\n",
              "        const buttonEl =\n",
              "          document.querySelector('#df-ad941929-0f9b-4048-9564-8b2ea90c6675 button.colab-df-convert');\n",
              "        buttonEl.style.display =\n",
              "          google.colab.kernel.accessAllowed ? 'block' : 'none';\n",
              "\n",
              "        async function convertToInteractive(key) {\n",
              "          const element = document.querySelector('#df-ad941929-0f9b-4048-9564-8b2ea90c6675');\n",
              "          const dataTable =\n",
              "            await google.colab.kernel.invokeFunction('convertToInteractive',\n",
              "                                                     [key], {});\n",
              "          if (!dataTable) return;\n",
              "\n",
              "          const docLinkHtml = 'Like what you see? Visit the ' +\n",
              "            '<a target=\"_blank\" href=https://colab.research.google.com/notebooks/data_table.ipynb>data table notebook</a>'\n",
              "            + ' to learn more about interactive tables.';\n",
              "          element.innerHTML = '';\n",
              "          dataTable['output_type'] = 'display_data';\n",
              "          await google.colab.output.renderOutput(dataTable, element);\n",
              "          const docLink = document.createElement('div');\n",
              "          docLink.innerHTML = docLinkHtml;\n",
              "          element.appendChild(docLink);\n",
              "        }\n",
              "      </script>\n",
              "    </div>\n",
              "  </div>\n",
              "  "
            ],
            "text/plain": [
              "      idade       imc  quantidade_filhos  custos_seguro  sexo_female  \\\n",
              "0  0.021739  0.321227                0.0       0.251611          1.0   \n",
              "1  0.000000  0.479150                0.2       0.009636          0.0   \n",
              "2  0.217391  0.473500                0.6       0.053115          0.0   \n",
              "3  0.326087  0.181464                0.0       0.333010          0.0   \n",
              "4  0.304348  0.347592                0.0       0.043816          0.0   \n",
              "\n",
              "   sexo_male  fumante_no  fumante_yes  regiao_northeast  regiao_northwest  \\\n",
              "0        0.0         0.0          1.0               0.0               0.0   \n",
              "1        1.0         1.0          0.0               0.0               0.0   \n",
              "2        1.0         1.0          0.0               0.0               0.0   \n",
              "3        1.0         1.0          0.0               0.0               1.0   \n",
              "4        1.0         1.0          0.0               0.0               1.0   \n",
              "\n",
              "   regiao_southeast  regiao_southwest  \n",
              "0               0.0               1.0  \n",
              "1               1.0               0.0  \n",
              "2               1.0               0.0  \n",
              "3               0.0               0.0  \n",
              "4               0.0               0.0  "
            ]
          },
          "execution_count": 50,
          "metadata": {},
          "output_type": "execute_result"
        }
      ],
      "source": [
        "scaler = MinMaxScaler()\n",
        "\n",
        "df_norm = pd.DataFrame(scaler.fit_transform(df), index = df.index, columns= df.columns)\n",
        "df_norm.head()"
      ]
    },
    {
      "cell_type": "markdown",
      "metadata": {
        "id": "CeFihnGpSner"
      },
      "source": [
        "## Análise de Correlação e Distribuição"
      ]
    },
    {
      "cell_type": "code",
      "execution_count": null,
      "metadata": {
        "colab": {
          "base_uri": "https://localhost:8080/",
          "height": 489
        },
        "id": "UJwfV_ZdSuWy",
        "outputId": "4bd4431c-c0c4-43cf-a1a4-d7e767f342d3"
      },
      "outputs": [
        {
          "data": {
            "text/html": [
              "\n",
              "  <div id=\"df-dc004548-cb0f-4a23-9ca7-1e00b6e77f3f\">\n",
              "    <div class=\"colab-df-container\">\n",
              "      <div>\n",
              "<style scoped>\n",
              "    .dataframe tbody tr th:only-of-type {\n",
              "        vertical-align: middle;\n",
              "    }\n",
              "\n",
              "    .dataframe tbody tr th {\n",
              "        vertical-align: top;\n",
              "    }\n",
              "\n",
              "    .dataframe thead th {\n",
              "        text-align: right;\n",
              "    }\n",
              "</style>\n",
              "<table border=\"1\" class=\"dataframe\">\n",
              "  <thead>\n",
              "    <tr style=\"text-align: right;\">\n",
              "      <th></th>\n",
              "      <th>idade</th>\n",
              "      <th>imc</th>\n",
              "      <th>quantidade_filhos</th>\n",
              "      <th>custos_seguro</th>\n",
              "      <th>sexo_female</th>\n",
              "      <th>sexo_male</th>\n",
              "      <th>fumante_no</th>\n",
              "      <th>fumante_yes</th>\n",
              "      <th>regiao_northeast</th>\n",
              "      <th>regiao_northwest</th>\n",
              "      <th>regiao_southeast</th>\n",
              "      <th>regiao_southwest</th>\n",
              "    </tr>\n",
              "  </thead>\n",
              "  <tbody>\n",
              "    <tr>\n",
              "      <th>idade</th>\n",
              "      <td>1.000000</td>\n",
              "      <td>0.109214</td>\n",
              "      <td>0.042469</td>\n",
              "      <td>0.299008</td>\n",
              "      <td>0.020856</td>\n",
              "      <td>-0.020856</td>\n",
              "      <td>0.025019</td>\n",
              "      <td>-0.025019</td>\n",
              "      <td>0.002475</td>\n",
              "      <td>-0.000407</td>\n",
              "      <td>-0.011642</td>\n",
              "      <td>0.010016</td>\n",
              "    </tr>\n",
              "    <tr>\n",
              "      <th>imc</th>\n",
              "      <td>0.109214</td>\n",
              "      <td>1.000000</td>\n",
              "      <td>0.012867</td>\n",
              "      <td>0.198285</td>\n",
              "      <td>-0.046438</td>\n",
              "      <td>0.046438</td>\n",
              "      <td>-0.003715</td>\n",
              "      <td>0.003715</td>\n",
              "      <td>-0.138191</td>\n",
              "      <td>-0.136030</td>\n",
              "      <td>0.270129</td>\n",
              "      <td>-0.006244</td>\n",
              "    </tr>\n",
              "    <tr>\n",
              "      <th>quantidade_filhos</th>\n",
              "      <td>0.042469</td>\n",
              "      <td>0.012867</td>\n",
              "      <td>1.000000</td>\n",
              "      <td>0.067998</td>\n",
              "      <td>-0.017163</td>\n",
              "      <td>0.017163</td>\n",
              "      <td>-0.007673</td>\n",
              "      <td>0.007673</td>\n",
              "      <td>-0.022808</td>\n",
              "      <td>0.024806</td>\n",
              "      <td>-0.023066</td>\n",
              "      <td>0.021914</td>\n",
              "    </tr>\n",
              "    <tr>\n",
              "      <th>custos_seguro</th>\n",
              "      <td>0.299008</td>\n",
              "      <td>0.198285</td>\n",
              "      <td>0.067998</td>\n",
              "      <td>1.000000</td>\n",
              "      <td>-0.057292</td>\n",
              "      <td>0.057292</td>\n",
              "      <td>-0.787251</td>\n",
              "      <td>0.787251</td>\n",
              "      <td>0.006349</td>\n",
              "      <td>-0.039905</td>\n",
              "      <td>0.073982</td>\n",
              "      <td>-0.043210</td>\n",
              "    </tr>\n",
              "    <tr>\n",
              "      <th>sexo_female</th>\n",
              "      <td>0.020856</td>\n",
              "      <td>-0.046438</td>\n",
              "      <td>-0.017163</td>\n",
              "      <td>-0.057292</td>\n",
              "      <td>1.000000</td>\n",
              "      <td>-1.000000</td>\n",
              "      <td>0.076185</td>\n",
              "      <td>-0.076185</td>\n",
              "      <td>0.002425</td>\n",
              "      <td>0.011156</td>\n",
              "      <td>-0.017117</td>\n",
              "      <td>0.004184</td>\n",
              "    </tr>\n",
              "    <tr>\n",
              "      <th>sexo_male</th>\n",
              "      <td>-0.020856</td>\n",
              "      <td>0.046438</td>\n",
              "      <td>0.017163</td>\n",
              "      <td>0.057292</td>\n",
              "      <td>-1.000000</td>\n",
              "      <td>1.000000</td>\n",
              "      <td>-0.076185</td>\n",
              "      <td>0.076185</td>\n",
              "      <td>-0.002425</td>\n",
              "      <td>-0.011156</td>\n",
              "      <td>0.017117</td>\n",
              "      <td>-0.004184</td>\n",
              "    </tr>\n",
              "    <tr>\n",
              "      <th>fumante_no</th>\n",
              "      <td>0.025019</td>\n",
              "      <td>-0.003715</td>\n",
              "      <td>-0.007673</td>\n",
              "      <td>-0.787251</td>\n",
              "      <td>0.076185</td>\n",
              "      <td>-0.076185</td>\n",
              "      <td>1.000000</td>\n",
              "      <td>-1.000000</td>\n",
              "      <td>-0.002811</td>\n",
              "      <td>0.036945</td>\n",
              "      <td>-0.068498</td>\n",
              "      <td>0.036945</td>\n",
              "    </tr>\n",
              "    <tr>\n",
              "      <th>fumante_yes</th>\n",
              "      <td>-0.025019</td>\n",
              "      <td>0.003715</td>\n",
              "      <td>0.007673</td>\n",
              "      <td>0.787251</td>\n",
              "      <td>-0.076185</td>\n",
              "      <td>0.076185</td>\n",
              "      <td>-1.000000</td>\n",
              "      <td>1.000000</td>\n",
              "      <td>0.002811</td>\n",
              "      <td>-0.036945</td>\n",
              "      <td>0.068498</td>\n",
              "      <td>-0.036945</td>\n",
              "    </tr>\n",
              "    <tr>\n",
              "      <th>regiao_northeast</th>\n",
              "      <td>0.002475</td>\n",
              "      <td>-0.138191</td>\n",
              "      <td>-0.022808</td>\n",
              "      <td>0.006349</td>\n",
              "      <td>0.002425</td>\n",
              "      <td>-0.002425</td>\n",
              "      <td>-0.002811</td>\n",
              "      <td>0.002811</td>\n",
              "      <td>1.000000</td>\n",
              "      <td>-0.320177</td>\n",
              "      <td>-0.345561</td>\n",
              "      <td>-0.320177</td>\n",
              "    </tr>\n",
              "    <tr>\n",
              "      <th>regiao_northwest</th>\n",
              "      <td>-0.000407</td>\n",
              "      <td>-0.136030</td>\n",
              "      <td>0.024806</td>\n",
              "      <td>-0.039905</td>\n",
              "      <td>0.011156</td>\n",
              "      <td>-0.011156</td>\n",
              "      <td>0.036945</td>\n",
              "      <td>-0.036945</td>\n",
              "      <td>-0.320177</td>\n",
              "      <td>1.000000</td>\n",
              "      <td>-0.346265</td>\n",
              "      <td>-0.320829</td>\n",
              "    </tr>\n",
              "    <tr>\n",
              "      <th>regiao_southeast</th>\n",
              "      <td>-0.011642</td>\n",
              "      <td>0.270129</td>\n",
              "      <td>-0.023066</td>\n",
              "      <td>0.073982</td>\n",
              "      <td>-0.017117</td>\n",
              "      <td>0.017117</td>\n",
              "      <td>-0.068498</td>\n",
              "      <td>0.068498</td>\n",
              "      <td>-0.345561</td>\n",
              "      <td>-0.346265</td>\n",
              "      <td>1.000000</td>\n",
              "      <td>-0.346265</td>\n",
              "    </tr>\n",
              "    <tr>\n",
              "      <th>regiao_southwest</th>\n",
              "      <td>0.010016</td>\n",
              "      <td>-0.006244</td>\n",
              "      <td>0.021914</td>\n",
              "      <td>-0.043210</td>\n",
              "      <td>0.004184</td>\n",
              "      <td>-0.004184</td>\n",
              "      <td>0.036945</td>\n",
              "      <td>-0.036945</td>\n",
              "      <td>-0.320177</td>\n",
              "      <td>-0.320829</td>\n",
              "      <td>-0.346265</td>\n",
              "      <td>1.000000</td>\n",
              "    </tr>\n",
              "  </tbody>\n",
              "</table>\n",
              "</div>\n",
              "      <button class=\"colab-df-convert\" onclick=\"convertToInteractive('df-dc004548-cb0f-4a23-9ca7-1e00b6e77f3f')\"\n",
              "              title=\"Convert this dataframe to an interactive table.\"\n",
              "              style=\"display:none;\">\n",
              "        \n",
              "  <svg xmlns=\"http://www.w3.org/2000/svg\" height=\"24px\"viewBox=\"0 0 24 24\"\n",
              "       width=\"24px\">\n",
              "    <path d=\"M0 0h24v24H0V0z\" fill=\"none\"/>\n",
              "    <path d=\"M18.56 5.44l.94 2.06.94-2.06 2.06-.94-2.06-.94-.94-2.06-.94 2.06-2.06.94zm-11 1L8.5 8.5l.94-2.06 2.06-.94-2.06-.94L8.5 2.5l-.94 2.06-2.06.94zm10 10l.94 2.06.94-2.06 2.06-.94-2.06-.94-.94-2.06-.94 2.06-2.06.94z\"/><path d=\"M17.41 7.96l-1.37-1.37c-.4-.4-.92-.59-1.43-.59-.52 0-1.04.2-1.43.59L10.3 9.45l-7.72 7.72c-.78.78-.78 2.05 0 2.83L4 21.41c.39.39.9.59 1.41.59.51 0 1.02-.2 1.41-.59l7.78-7.78 2.81-2.81c.8-.78.8-2.07 0-2.86zM5.41 20L4 18.59l7.72-7.72 1.47 1.35L5.41 20z\"/>\n",
              "  </svg>\n",
              "      </button>\n",
              "      \n",
              "  <style>\n",
              "    .colab-df-container {\n",
              "      display:flex;\n",
              "      flex-wrap:wrap;\n",
              "      gap: 12px;\n",
              "    }\n",
              "\n",
              "    .colab-df-convert {\n",
              "      background-color: #E8F0FE;\n",
              "      border: none;\n",
              "      border-radius: 50%;\n",
              "      cursor: pointer;\n",
              "      display: none;\n",
              "      fill: #1967D2;\n",
              "      height: 32px;\n",
              "      padding: 0 0 0 0;\n",
              "      width: 32px;\n",
              "    }\n",
              "\n",
              "    .colab-df-convert:hover {\n",
              "      background-color: #E2EBFA;\n",
              "      box-shadow: 0px 1px 2px rgba(60, 64, 67, 0.3), 0px 1px 3px 1px rgba(60, 64, 67, 0.15);\n",
              "      fill: #174EA6;\n",
              "    }\n",
              "\n",
              "    [theme=dark] .colab-df-convert {\n",
              "      background-color: #3B4455;\n",
              "      fill: #D2E3FC;\n",
              "    }\n",
              "\n",
              "    [theme=dark] .colab-df-convert:hover {\n",
              "      background-color: #434B5C;\n",
              "      box-shadow: 0px 1px 3px 1px rgba(0, 0, 0, 0.15);\n",
              "      filter: drop-shadow(0px 1px 2px rgba(0, 0, 0, 0.3));\n",
              "      fill: #FFFFFF;\n",
              "    }\n",
              "  </style>\n",
              "\n",
              "      <script>\n",
              "        const buttonEl =\n",
              "          document.querySelector('#df-dc004548-cb0f-4a23-9ca7-1e00b6e77f3f button.colab-df-convert');\n",
              "        buttonEl.style.display =\n",
              "          google.colab.kernel.accessAllowed ? 'block' : 'none';\n",
              "\n",
              "        async function convertToInteractive(key) {\n",
              "          const element = document.querySelector('#df-dc004548-cb0f-4a23-9ca7-1e00b6e77f3f');\n",
              "          const dataTable =\n",
              "            await google.colab.kernel.invokeFunction('convertToInteractive',\n",
              "                                                     [key], {});\n",
              "          if (!dataTable) return;\n",
              "\n",
              "          const docLinkHtml = 'Like what you see? Visit the ' +\n",
              "            '<a target=\"_blank\" href=https://colab.research.google.com/notebooks/data_table.ipynb>data table notebook</a>'\n",
              "            + ' to learn more about interactive tables.';\n",
              "          element.innerHTML = '';\n",
              "          dataTable['output_type'] = 'display_data';\n",
              "          await google.colab.output.renderOutput(dataTable, element);\n",
              "          const docLink = document.createElement('div');\n",
              "          docLink.innerHTML = docLinkHtml;\n",
              "          element.appendChild(docLink);\n",
              "        }\n",
              "      </script>\n",
              "    </div>\n",
              "  </div>\n",
              "  "
            ],
            "text/plain": [
              "                      idade       imc  quantidade_filhos  custos_seguro  \\\n",
              "idade              1.000000  0.109214           0.042469       0.299008   \n",
              "imc                0.109214  1.000000           0.012867       0.198285   \n",
              "quantidade_filhos  0.042469  0.012867           1.000000       0.067998   \n",
              "custos_seguro      0.299008  0.198285           0.067998       1.000000   \n",
              "sexo_female        0.020856 -0.046438          -0.017163      -0.057292   \n",
              "sexo_male         -0.020856  0.046438           0.017163       0.057292   \n",
              "fumante_no         0.025019 -0.003715          -0.007673      -0.787251   \n",
              "fumante_yes       -0.025019  0.003715           0.007673       0.787251   \n",
              "regiao_northeast   0.002475 -0.138191          -0.022808       0.006349   \n",
              "regiao_northwest  -0.000407 -0.136030           0.024806      -0.039905   \n",
              "regiao_southeast  -0.011642  0.270129          -0.023066       0.073982   \n",
              "regiao_southwest   0.010016 -0.006244           0.021914      -0.043210   \n",
              "\n",
              "                   sexo_female  sexo_male  fumante_no  fumante_yes  \\\n",
              "idade                 0.020856  -0.020856    0.025019    -0.025019   \n",
              "imc                  -0.046438   0.046438   -0.003715     0.003715   \n",
              "quantidade_filhos    -0.017163   0.017163   -0.007673     0.007673   \n",
              "custos_seguro        -0.057292   0.057292   -0.787251     0.787251   \n",
              "sexo_female           1.000000  -1.000000    0.076185    -0.076185   \n",
              "sexo_male            -1.000000   1.000000   -0.076185     0.076185   \n",
              "fumante_no            0.076185  -0.076185    1.000000    -1.000000   \n",
              "fumante_yes          -0.076185   0.076185   -1.000000     1.000000   \n",
              "regiao_northeast      0.002425  -0.002425   -0.002811     0.002811   \n",
              "regiao_northwest      0.011156  -0.011156    0.036945    -0.036945   \n",
              "regiao_southeast     -0.017117   0.017117   -0.068498     0.068498   \n",
              "regiao_southwest      0.004184  -0.004184    0.036945    -0.036945   \n",
              "\n",
              "                   regiao_northeast  regiao_northwest  regiao_southeast  \\\n",
              "idade                      0.002475         -0.000407         -0.011642   \n",
              "imc                       -0.138191         -0.136030          0.270129   \n",
              "quantidade_filhos         -0.022808          0.024806         -0.023066   \n",
              "custos_seguro              0.006349         -0.039905          0.073982   \n",
              "sexo_female                0.002425          0.011156         -0.017117   \n",
              "sexo_male                 -0.002425         -0.011156          0.017117   \n",
              "fumante_no                -0.002811          0.036945         -0.068498   \n",
              "fumante_yes                0.002811         -0.036945          0.068498   \n",
              "regiao_northeast           1.000000         -0.320177         -0.345561   \n",
              "regiao_northwest          -0.320177          1.000000         -0.346265   \n",
              "regiao_southeast          -0.345561         -0.346265          1.000000   \n",
              "regiao_southwest          -0.320177         -0.320829         -0.346265   \n",
              "\n",
              "                   regiao_southwest  \n",
              "idade                      0.010016  \n",
              "imc                       -0.006244  \n",
              "quantidade_filhos          0.021914  \n",
              "custos_seguro             -0.043210  \n",
              "sexo_female                0.004184  \n",
              "sexo_male                 -0.004184  \n",
              "fumante_no                 0.036945  \n",
              "fumante_yes               -0.036945  \n",
              "regiao_northeast          -0.320177  \n",
              "regiao_northwest          -0.320829  \n",
              "regiao_southeast          -0.346265  \n",
              "regiao_southwest           1.000000  "
            ]
          },
          "execution_count": 51,
          "metadata": {},
          "output_type": "execute_result"
        }
      ],
      "source": [
        "df_norm.corr()"
      ]
    },
    {
      "cell_type": "code",
      "execution_count": null,
      "metadata": {
        "colab": {
          "base_uri": "https://localhost:8080/",
          "height": 458
        },
        "id": "ZMYbHyiBS4d1",
        "outputId": "39bd1ce1-6769-4048-a0ec-3bc9c88b4d5b"
      },
      "outputs": [
        {
          "data": {
            "image/png": "[encoded data removed]",
            "text/plain": [
              "<Figure size 640x480 with 1 Axes>"
            ]
          },
          "metadata": {},
          "output_type": "display_data"
        }
      ],
      "source": [
        "sns.histplot(df_norm, x='custos_seguro', kde=True);"
      ]
    },
    {
      "cell_type": "markdown",
      "metadata": {
        "id": "QnEq3ctgTAc2"
      },
      "source": [
        "# Construção do Modelo"
      ]
    },
    {
      "cell_type": "markdown",
      "metadata": {
        "id": "wFKq65RYTCxp"
      },
      "source": [
        "## Escolha de Váriaveis"
      ]
    },
    {
      "cell_type": "markdown",
      "metadata": {
        "id": "V8eiZ5sFTFQk"
      },
      "source": [
        "Para a escolha das váriaveis vamos utilizar o método backward, onde iniciaremos o modelo com todas as váriaveis, e vamos retirando as que possuem um PValue maior que 5% (0,05), que nesse caso são as que não é possível rejeitar a hipótese nula de que não existe muticolinariedade."
      ]
    },
    {
      "cell_type": "code",
      "execution_count": null,
      "metadata": {
        "colab": {
          "base_uri": "https://localhost:8080/"
        },
        "id": "4IkOq2gAUQaA",
        "outputId": "3fb2b8b0-589b-43ef-9eda-e0d47d990cb2"
      },
      "outputs": [
        {
          "data": {
            "text/plain": [
              "Index(['idade', 'imc', 'quantidade_filhos', 'custos_seguro', 'sexo_female',\n",
              "       'sexo_male', 'fumante_no', 'fumante_yes', 'regiao_northeast',\n",
              "       'regiao_northwest', 'regiao_southeast', 'regiao_southwest'],\n",
              "      dtype='object')"
            ]
          },
          "execution_count": 53,
          "metadata": {},
          "output_type": "execute_result"
        }
      ],
      "source": [
        "df_norm.columns"
      ]
    },
    {
      "cell_type": "code",
      "execution_count": null,
      "metadata": {
        "colab": {
          "base_uri": "https://localhost:8080/"
        },
        "id": "A4wg9_LNTEjb",
        "outputId": "a2d7696c-74ed-4bf4-dc56-1bd46dfc05c4"
      },
      "outputs": [
        {
          "name": "stdout",
          "output_type": "stream",
          "text": [
            "                            OLS Regression Results                            \n",
            "==============================================================================\n",
            "Dep. Variable:          custos_seguro   R-squared:                       0.751\n",
            "Model:                            OLS   Adj. R-squared:                  0.749\n",
            "Method:                 Least Squares   F-statistic:                     500.8\n",
            "Date:                Fri, 16 Jun 2023   Prob (F-statistic):               0.00\n",
            "Time:                        00:49:37   Log-Likelihood:                 1230.8\n",
            "No. Observations:                1338   AIC:                            -2444.\n",
            "Df Residuals:                    1329   BIC:                            -2397.\n",
            "Df Model:                           8                                         \n",
            "Covariance Type:            nonrobust                                         \n",
            "=====================================================================================\n",
            "                        coef    std err          t      P>|t|      [0.025      0.975]\n",
            "-------------------------------------------------------------------------------------\n",
            "idade                 0.1886      0.009     21.587      0.000       0.171       0.206\n",
            "imc                   0.2012      0.017     11.859      0.000       0.168       0.235\n",
            "quantidade_filhos     0.0379      0.011      3.449      0.001       0.016       0.060\n",
            "sexo_female           0.0537      0.004     12.668      0.000       0.045       0.062\n",
            "sexo_male             0.0516      0.004     12.057      0.000       0.043       0.060\n",
            "fumante_no           -0.1377      0.004    -33.172      0.000      -0.146      -0.130\n",
            "fumante_yes           0.2430      0.005     47.025      0.000       0.233       0.253\n",
            "regiao_northeast      0.0357      0.005      7.434      0.000       0.026       0.045\n",
            "regiao_northwest      0.0301      0.005      6.220      0.000       0.021       0.040\n",
            "regiao_southeast      0.0192      0.005      3.698      0.000       0.009       0.029\n",
            "regiao_southwest      0.0204      0.005      4.110      0.000       0.011       0.030\n",
            "==============================================================================\n",
            "Omnibus:                      300.368   Durbin-Watson:                   2.089\n",
            "Prob(Omnibus):                  0.000   Jarque-Bera (JB):              718.888\n",
            "Skew:                           1.211   Prob(JB):                    7.86e-157\n",
            "Kurtosis:                       5.651   Cond. No.                     1.33e+16\n",
            "==============================================================================\n",
            "\n",
            "Notes:\n",
            "[1] Standard Errors assume that the covariance matrix of the errors is correctly specified.\n",
            "[2] The smallest eigenvalue is 1.43e-29. This might indicate that there are\n",
            "strong multicollinearity problems or that the design matrix is singular.\n"
          ]
        }
      ],
      "source": [
        "function = 'custos_seguro~idade+imc+quantidade_filhos+sexo_female+sexo_male+fumante_no+fumante_yes+regiao_northeast+regiao_northwest+regiao_southeast+regiao_southwest-1'\n",
        "\n",
        "model = smf.ols(formula = function, data=df_norm).fit()\n",
        "\n",
        "print(model.summary())"
      ]
    },
    {
      "cell_type": "markdown",
      "metadata": {
        "id": "MnNOCNAfVIDx"
      },
      "source": [
        "Ao fazer a seleção, foi possível compreender que ao retirar o intercepto, temos já todas as variaveis explictativas dos modelo (x).\n",
        "\n",
        "\n",
        "E a váriavel target (y) o custos_seguro."
      ]
    },
    {
      "cell_type": "markdown",
      "metadata": {
        "id": "hMtX3SE0VfIJ"
      },
      "source": [
        "##Separando massa de treino e teste"
      ]
    },
    {
      "cell_type": "code",
      "execution_count": null,
      "metadata": {
        "id": "LKpTNvLwVQn0"
      },
      "outputs": [],
      "source": [
        "x = df_norm.drop(columns='custos_seguro')\n",
        "y = df_norm[['custos_seguro']]\n",
        "\n",
        "x_train, x_test, y_train, y_test = train_test_split(x, y, test_size= 0.2, random_state=42)"
      ]
    },
    {
      "cell_type": "markdown",
      "metadata": {
        "id": "hJ55JOhNaOdF"
      },
      "source": [
        "## Modelos"
      ]
    },
    {
      "cell_type": "markdown",
      "metadata": {
        "id": "_tobMdKLWq96"
      },
      "source": [
        "### Regressão Linear"
      ]
    },
    {
      "cell_type": "code",
      "execution_count": null,
      "metadata": {
        "id": "V1Cp3H2LWphL"
      },
      "outputs": [],
      "source": [
        "lr = LinearRegression()\n",
        "\n",
        "lr.fit(x_train, y_train);"
      ]
    },
    {
      "cell_type": "code",
      "execution_count": null,
      "metadata": {
        "colab": {
          "base_uri": "https://localhost:8080/"
        },
        "id": "83avJJ85Xzp5",
        "outputId": "ef6a3e42-929d-45dc-a9f7-e8d08e3aed3f"
      },
      "outputs": [
        {
          "name": "stdout",
          "output_type": "stream",
          "text": [
            "R^2:0.7507\n",
            "MAE Train:0.0672\n",
            "MAE Test:0.0662\n",
            "MSE Train:0.0095\n",
            "MSE Test:0.0085\n"
          ]
        }
      ],
      "source": [
        "y_pred_train_lr = lr.predict(x_train)\n",
        "y_pred_test_lr = lr.predict(x_test)\n",
        "r_sqt_lr = lr.score(x, y).round(4)\n",
        "\n",
        "print(f'R^2:{r_sqt_lr}')\n",
        "print(f'MAE Train:{metrics.mean_absolute_error(y_train, y_pred_train_lr).round(4)}')\n",
        "print(f'MAE Test:{metrics.mean_absolute_error(y_test, y_pred_test_lr).round(4)}')\n",
        "print(f'MSE Train:{metrics.mean_squared_error(y_train, y_pred_train_lr).round(4)}')\n",
        "print(f'MSE Test:{metrics.mean_squared_error(y_test, y_pred_test_lr).round(4)}')\n"
      ]
    },
    {
      "cell_type": "markdown",
      "metadata": {
        "id": "MnGJ198fYE6q"
      },
      "source": [
        "Como o R^2 não foi conforme o esperado, vamos treinar outros modelos (ensemble) para verificar se conseguimos uma melhora nas métricas do modelo."
      ]
    },
    {
      "cell_type": "markdown",
      "metadata": {
        "id": "ABBHkiLKZTwZ"
      },
      "source": [
        "### RandomForest"
      ]
    },
    {
      "cell_type": "code",
      "execution_count": null,
      "metadata": {
        "colab": {
          "base_uri": "https://localhost:8080/"
        },
        "id": "vHZBlyO0ZcuN",
        "outputId": "4a100b06-dcac-456f-b36d-c23263bd3e58"
      },
      "outputs": [
        {
          "name": "stderr",
          "output_type": "stream",
          "text": [
            "<ipython-input-58-5df3396e3a54>:2: DataConversionWarning: A column-vector y was passed when a 1d array was expected. Please change the shape of y to (n_samples,), for example using ravel().\n",
            "  rf.fit(x_train, y_train);\n"
          ]
        }
      ],
      "source": [
        "rf = RandomForestRegressor()\n",
        "rf.fit(x_train, y_train);"
      ]
    },
    {
      "cell_type": "code",
      "execution_count": null,
      "metadata": {
        "colab": {
          "base_uri": "https://localhost:8080/"
        },
        "id": "3cEaAR10ZlHI",
        "outputId": "07f3d8f0-a553-459a-feed-5a3def25e068"
      },
      "outputs": [
        {
          "name": "stdout",
          "output_type": "stream",
          "text": [
            "R^2:0.9515\n",
            "MAE Train:0.0163\n",
            "MAE Test:0.0417\n",
            "MSE Train:0.0009\n",
            "MSE Test:0.0055\n"
          ]
        }
      ],
      "source": [
        "y_pred_train_rf = rf.predict(x_train)\n",
        "y_pred_test_rf = rf.predict(x_test)\n",
        "r_sqt_rf = rf.score(x, y).round(4)\n",
        "\n",
        "print(f'R^2:{r_sqt_rf}')\n",
        "print(f'MAE Train:{metrics.mean_absolute_error(y_train, y_pred_train_rf).round(4)}')\n",
        "print(f'MAE Test:{metrics.mean_absolute_error(y_test, y_pred_test_rf).round(4)}')\n",
        "print(f'MSE Train:{metrics.mean_squared_error(y_train, y_pred_train_rf).round(4)}')\n",
        "print(f'MSE Test:{metrics.mean_squared_error(y_test, y_pred_test_rf).round(4)}')\n"
      ]
    },
    {
      "cell_type": "markdown",
      "metadata": {
        "id": "oU7BHKPEaSNc"
      },
      "source": [
        "### ADABoosting"
      ]
    },
    {
      "cell_type": "code",
      "execution_count": null,
      "metadata": {
        "colab": {
          "base_uri": "https://localhost:8080/"
        },
        "id": "QFMh54jRaRra",
        "outputId": "2ca93320-1ee3-474c-9b7f-708d55a2f021"
      },
      "outputs": [
        {
          "name": "stderr",
          "output_type": "stream",
          "text": [
            "/usr/local/lib/python3.10/dist-packages/sklearn/utils/validation.py:1143: DataConversionWarning: A column-vector y was passed when a 1d array was expected. Please change the shape of y to (n_samples, ), for example using ravel().\n",
            "  y = column_or_1d(y, warn=True)\n"
          ]
        }
      ],
      "source": [
        "ada = AdaBoostRegressor()\n",
        "\n",
        "ada.fit(x_train, y_train);"
      ]
    },
    {
      "cell_type": "code",
      "execution_count": null,
      "metadata": {
        "colab": {
          "base_uri": "https://localhost:8080/"
        },
        "id": "mwwTMUQhaae9",
        "outputId": "5ee72aaf-e9d6-47e2-c861-1e418aa695b0"
      },
      "outputs": [
        {
          "name": "stdout",
          "output_type": "stream",
          "text": [
            "R^2:0.8323\n",
            "MAE Train:0.0612\n",
            "MAE Test:0.0659\n",
            "MSE Train:0.0061\n",
            "MSE Test:0.0069\n"
          ]
        }
      ],
      "source": [
        "y_pred_train_ada = ada.predict(x_train)\n",
        "y_pred_test_ada = ada.predict(x_test)\n",
        "r_sqt_ada = ada.score(x, y).round(4)\n",
        "\n",
        "print(f'R^2:{r_sqt_ada}')\n",
        "print(f'MAE Train:{metrics.mean_absolute_error(y_train, y_pred_train_ada).round(4)}')\n",
        "print(f'MAE Test:{metrics.mean_absolute_error(y_test, y_pred_test_ada).round(4)}')\n",
        "print(f'MSE Train:{metrics.mean_squared_error(y_train, y_pred_train_ada).round(4)}')\n",
        "print(f'MSE Test:{metrics.mean_squared_error(y_test, y_pred_test_ada).round(4)}')\n"
      ]
    },
    {
      "cell_type": "markdown",
      "metadata": {
        "id": "nnu3MUgWa18I"
      },
      "source": [
        "### GradientBoosting"
      ]
    },
    {
      "cell_type": "code",
      "execution_count": null,
      "metadata": {
        "colab": {
          "base_uri": "https://localhost:8080/"
        },
        "id": "jki7fq-ua6Yg",
        "outputId": "50a57719-62a4-4c5e-9ae4-b510120cfafd"
      },
      "outputs": [
        {
          "name": "stderr",
          "output_type": "stream",
          "text": [
            "/usr/local/lib/python3.10/dist-packages/sklearn/ensemble/_gb.py:437: DataConversionWarning: A column-vector y was passed when a 1d array was expected. Please change the shape of y to (n_samples, ), for example using ravel().\n",
            "  y = column_or_1d(y, warn=True)\n"
          ]
        }
      ],
      "source": [
        "grb = GradientBoostingRegressor()\n",
        "\n",
        "grb.fit(x_train, y_train);"
      ]
    },
    {
      "cell_type": "code",
      "execution_count": null,
      "metadata": {
        "colab": {
          "base_uri": "https://localhost:8080/"
        },
        "id": "RF6CGduobkuC",
        "outputId": "4f6d60d9-7394-4606-d627-b50d86c0798a"
      },
      "outputs": [
        {
          "name": "stdout",
          "output_type": "stream",
          "text": [
            "R^2:0.8965\n",
            "MAE Train:0.0332\n",
            "MAE Test:0.0384\n",
            "MSE Train:0.0036\n",
            "MSE Test:0.0048\n"
          ]
        }
      ],
      "source": [
        "y_pred_train_grb = grb.predict(x_train)\n",
        "y_pred_test_grb = grb.predict(x_test)\n",
        "r_sqt_grb = grb.score(x, y).round(4)\n",
        "\n",
        "print(f'R^2:{r_sqt_grb}')\n",
        "print(f'MAE Train:{metrics.mean_absolute_error(y_train, y_pred_train_grb).round(4)}')\n",
        "print(f'MAE Test:{metrics.mean_absolute_error(y_test, y_pred_test_grb).round(4)}')\n",
        "print(f'MSE Train:{metrics.mean_squared_error(y_train, y_pred_train_grb).round(4)}')\n",
        "print(f'MSE Test:{metrics.mean_squared_error(y_test, y_pred_test_grb).round(4)}')\n"
      ]
    },
    {
      "cell_type": "markdown",
      "metadata": {
        "id": "6Vz1UMpqbt-j"
      },
      "source": [
        "## Resultado dos modelos"
      ]
    },
    {
      "cell_type": "code",
      "execution_count": null,
      "metadata": {
        "colab": {
          "base_uri": "https://localhost:8080/",
          "height": 175
        },
        "id": "Xhtk5y5Rb3xU",
        "outputId": "7e4fbf0d-edeb-48be-b09d-5dbb094aae8c"
      },
      "outputs": [
        {
          "data": {
            "text/html": [
              "\n",
              "  <div id=\"df-8229063a-ad5c-48ab-a93b-0d3e60f5ee90\">\n",
              "    <div class=\"colab-df-container\">\n",
              "      <div>\n",
              "<style scoped>\n",
              "    .dataframe tbody tr th:only-of-type {\n",
              "        vertical-align: middle;\n",
              "    }\n",
              "\n",
              "    .dataframe tbody tr th {\n",
              "        vertical-align: top;\n",
              "    }\n",
              "\n",
              "    .dataframe thead th {\n",
              "        text-align: right;\n",
              "    }\n",
              "</style>\n",
              "<table border=\"1\" class=\"dataframe\">\n",
              "  <thead>\n",
              "    <tr style=\"text-align: right;\">\n",
              "      <th></th>\n",
              "      <th>Modelos</th>\n",
              "      <th>R^2</th>\n",
              "      <th>MAE Train</th>\n",
              "      <th>MAE Test</th>\n",
              "      <th>MSE Train</th>\n",
              "      <th>MSE Test</th>\n",
              "    </tr>\n",
              "  </thead>\n",
              "  <tbody>\n",
              "    <tr>\n",
              "      <th>0</th>\n",
              "      <td>Regressão Linear</td>\n",
              "      <td>0.7507</td>\n",
              "      <td>0.0672</td>\n",
              "      <td>0.0662</td>\n",
              "      <td>0.0095</td>\n",
              "      <td>0.0085</td>\n",
              "    </tr>\n",
              "    <tr>\n",
              "      <th>1</th>\n",
              "      <td>RandomForest</td>\n",
              "      <td>0.9515</td>\n",
              "      <td>0.0163</td>\n",
              "      <td>0.0417</td>\n",
              "      <td>0.0009</td>\n",
              "      <td>0.0055</td>\n",
              "    </tr>\n",
              "    <tr>\n",
              "      <th>2</th>\n",
              "      <td>AdaBoosting</td>\n",
              "      <td>0.8323</td>\n",
              "      <td>0.0612</td>\n",
              "      <td>0.0659</td>\n",
              "      <td>0.0061</td>\n",
              "      <td>0.0069</td>\n",
              "    </tr>\n",
              "    <tr>\n",
              "      <th>3</th>\n",
              "      <td>GradientBoosting</td>\n",
              "      <td>0.8965</td>\n",
              "      <td>0.0332</td>\n",
              "      <td>0.0384</td>\n",
              "      <td>0.0036</td>\n",
              "      <td>0.0048</td>\n",
              "    </tr>\n",
              "  </tbody>\n",
              "</table>\n",
              "</div>\n",
              "      <button class=\"colab-df-convert\" onclick=\"convertToInteractive('df-8229063a-ad5c-48ab-a93b-0d3e60f5ee90')\"\n",
              "              title=\"Convert this dataframe to an interactive table.\"\n",
              "              style=\"display:none;\">\n",
              "        \n",
              "  <svg xmlns=\"http://www.w3.org/2000/svg\" height=\"24px\"viewBox=\"0 0 24 24\"\n",
              "       width=\"24px\">\n",
              "    <path d=\"M0 0h24v24H0V0z\" fill=\"none\"/>\n",
              "    <path d=\"M18.56 5.44l.94 2.06.94-2.06 2.06-.94-2.06-.94-.94-2.06-.94 2.06-2.06.94zm-11 1L8.5 8.5l.94-2.06 2.06-.94-2.06-.94L8.5 2.5l-.94 2.06-2.06.94zm10 10l.94 2.06.94-2.06 2.06-.94-2.06-.94-.94-2.06-.94 2.06-2.06.94z\"/><path d=\"M17.41 7.96l-1.37-1.37c-.4-.4-.92-.59-1.43-.59-.52 0-1.04.2-1.43.59L10.3 9.45l-7.72 7.72c-.78.78-.78 2.05 0 2.83L4 21.41c.39.39.9.59 1.41.59.51 0 1.02-.2 1.41-.59l7.78-7.78 2.81-2.81c.8-.78.8-2.07 0-2.86zM5.41 20L4 18.59l7.72-7.72 1.47 1.35L5.41 20z\"/>\n",
              "  </svg>\n",
              "      </button>\n",
              "      \n",
              "  <style>\n",
              "    .colab-df-container {\n",
              "      display:flex;\n",
              "      flex-wrap:wrap;\n",
              "      gap: 12px;\n",
              "    }\n",
              "\n",
              "    .colab-df-convert {\n",
              "      background-color: #E8F0FE;\n",
              "      border: none;\n",
              "      border-radius: 50%;\n",
              "      cursor: pointer;\n",
              "      display: none;\n",
              "      fill: #1967D2;\n",
              "      height: 32px;\n",
              "      padding: 0 0 0 0;\n",
              "      width: 32px;\n",
              "    }\n",
              "\n",
              "    .colab-df-convert:hover {\n",
              "      background-color: #E2EBFA;\n",
              "      box-shadow: 0px 1px 2px rgba(60, 64, 67, 0.3), 0px 1px 3px 1px rgba(60, 64, 67, 0.15);\n",
              "      fill: #174EA6;\n",
              "    }\n",
              "\n",
              "    [theme=dark] .colab-df-convert {\n",
              "      background-color: #3B4455;\n",
              "      fill: #D2E3FC;\n",
              "    }\n",
              "\n",
              "    [theme=dark] .colab-df-convert:hover {\n",
              "      background-color: #434B5C;\n",
              "      box-shadow: 0px 1px 3px 1px rgba(0, 0, 0, 0.15);\n",
              "      filter: drop-shadow(0px 1px 2px rgba(0, 0, 0, 0.3));\n",
              "      fill: #FFFFFF;\n",
              "    }\n",
              "  </style>\n",
              "\n",
              "      <script>\n",
              "        const buttonEl =\n",
              "          document.querySelector('#df-8229063a-ad5c-48ab-a93b-0d3e60f5ee90 button.colab-df-convert');\n",
              "        buttonEl.style.display =\n",
              "          google.colab.kernel.accessAllowed ? 'block' : 'none';\n",
              "\n",
              "        async function convertToInteractive(key) {\n",
              "          const element = document.querySelector('#df-8229063a-ad5c-48ab-a93b-0d3e60f5ee90');\n",
              "          const dataTable =\n",
              "            await google.colab.kernel.invokeFunction('convertToInteractive',\n",
              "                                                     [key], {});\n",
              "          if (!dataTable) return;\n",
              "\n",
              "          const docLinkHtml = 'Like what you see? Visit the ' +\n",
              "            '<a target=\"_blank\" href=https://colab.research.google.com/notebooks/data_table.ipynb>data table notebook</a>'\n",
              "            + ' to learn more about interactive tables.';\n",
              "          element.innerHTML = '';\n",
              "          dataTable['output_type'] = 'display_data';\n",
              "          await google.colab.output.renderOutput(dataTable, element);\n",
              "          const docLink = document.createElement('div');\n",
              "          docLink.innerHTML = docLinkHtml;\n",
              "          element.appendChild(docLink);\n",
              "        }\n",
              "      </script>\n",
              "    </div>\n",
              "  </div>\n",
              "  "
            ],
            "text/plain": [
              "            Modelos     R^2  MAE Train  MAE Test  MSE Train  MSE Test\n",
              "0  Regressão Linear  0.7507     0.0672    0.0662     0.0095    0.0085\n",
              "1      RandomForest  0.9515     0.0163    0.0417     0.0009    0.0055\n",
              "2       AdaBoosting  0.8323     0.0612    0.0659     0.0061    0.0069\n",
              "3  GradientBoosting  0.8965     0.0332    0.0384     0.0036    0.0048"
            ]
          },
          "metadata": {},
          "output_type": "display_data"
        }
      ],
      "source": [
        "result = pd.DataFrame({'Modelos':['Regressão Linear','RandomForest','AdaBoosting','GradientBoosting'],\n",
        "                      'R^2':[r_sqt_lr,r_sqt_rf,r_sqt_ada,r_sqt_grb],\n",
        "                      'MAE Train':[metrics.mean_absolute_error(y_train, y_pred_train_lr).round(4),metrics.mean_absolute_error(y_train, y_pred_train_rf).round(4),metrics.mean_absolute_error(y_train, y_pred_train_ada).round(4),metrics.mean_absolute_error(y_train, y_pred_train_grb).round(4)],\n",
        "                      'MAE Test':[metrics.mean_absolute_error(y_test, y_pred_test_lr).round(4),metrics.mean_absolute_error(y_test, y_pred_test_rf).round(4),metrics.mean_absolute_error(y_test, y_pred_test_ada).round(4),metrics.mean_absolute_error(y_test, y_pred_test_grb).round(4)],\n",
        "                      'MSE Train': [metrics.mean_squared_error(y_train, y_pred_train_lr).round(4),metrics.mean_squared_error(y_train, y_pred_train_rf).round(4),metrics.mean_squared_error(y_train, y_pred_train_ada).round(4),metrics.mean_squared_error(y_train, y_pred_train_grb).round(4)],\n",
        "                      'MSE Test': [metrics.mean_squared_error(y_test, y_pred_test_lr).round(4),metrics.mean_squared_error(y_test, y_pred_test_rf).round(4),metrics.mean_squared_error(y_test, y_pred_test_ada).round(4),metrics.mean_squared_error(y_test, y_pred_test_grb).round(4)]\n",
        "                       })\n",
        "display(result)"
      ]
    },
    {
      "cell_type": "markdown",
      "metadata": {
        "id": "zokchnRnd5pb"
      },
      "source": [
        "Ao comparar as métricas podemos chegar a conclusão que de maneira geral o modelo que melhor performou foi o GradienteBoosting, apesar do seu R^2 ser menor do que o RandomForest, podemos ver que existe um erro parecido quando olhamos para as métricas de treino e teste, portanto possui uma tendência menor de causar problemas de overfiting. Para que seja possível melhorar o R^2 e se tornar o modelo ideal, vamos tunar utilizando os hiperparâmetros."
      ]
    },
    {
      "cell_type": "markdown",
      "metadata": {
        "id": "xz61xu2HJKRE"
      },
      "source": [
        "# Tunning com Hiperparâmetros"
      ]
    },
    {
      "cell_type": "code",
      "execution_count": null,
      "metadata": {
        "id": "vSu9_GmUJPM8"
      },
      "outputs": [],
      "source": [
        "parameters = {'max_depth': [5,10,20],\n",
        "              'min_samples_leaf': [2,3,4],\n",
        "              'n_estimators': [100,200,500],\n",
        "              'min_samples_split': [2,3]}\n",
        "\n",
        "\n",
        "grid_search = GridSearchCV(grb, parameters, scoring= 'r2', cv=2, n_jobs=-1)"
      ]
    },
    {
      "cell_type": "code",
      "execution_count": null,
      "metadata": {
        "colab": {
          "base_uri": "https://localhost:8080/"
        },
        "id": "dbrRCScUKIpt",
        "outputId": "3ede251b-55bb-4363-b2bc-f9e768cd4504"
      },
      "outputs": [
        {
          "name": "stderr",
          "output_type": "stream",
          "text": [
            "/usr/local/lib/python3.10/dist-packages/sklearn/ensemble/_gb.py:437: DataConversionWarning: A column-vector y was passed when a 1d array was expected. Please change the shape of y to (n_samples, ), for example using ravel().\n",
            "  y = column_or_1d(y, warn=True)\n"
          ]
        }
      ],
      "source": [
        "grid_search.fit(x_train, y_train);"
      ]
    },
    {
      "cell_type": "code",
      "execution_count": null,
      "metadata": {
        "colab": {
          "base_uri": "https://localhost:8080/"
        },
        "id": "dPou-9KFNk3p",
        "outputId": "07c46ca3-750a-4101-e2bb-9986495e1637"
      },
      "outputs": [
        {
          "name": "stdout",
          "output_type": "stream",
          "text": [
            "Resultados do GridSearch\n",
            "Melhores Estimadores: GradientBoostingRegressor(max_depth=5, min_samples_leaf=4)\n",
            "Melhores Parametros: {'max_depth': 5, 'min_samples_leaf': 4, 'min_samples_split': 2, 'n_estimators': 100}\n"
          ]
        }
      ],
      "source": [
        "print('Resultados do GridSearch')\n",
        "print(f'Melhores Estimadores: {grid_search.best_estimator_}')\n",
        "print(f'Melhores Parametros: {grid_search.best_params_}')"
      ]
    },
    {
      "cell_type": "code",
      "execution_count": null,
      "metadata": {
        "colab": {
          "base_uri": "https://localhost:8080/"
        },
        "id": "lhnFh8q9OCUO",
        "outputId": "4f1fdd3f-e40e-4541-c5e1-c0297fa5b74a"
      },
      "outputs": [
        {
          "data": {
            "text/plain": [
              "{'alpha': 0.9,\n",
              " 'ccp_alpha': 0.0,\n",
              " 'criterion': 'friedman_mse',\n",
              " 'init': None,\n",
              " 'learning_rate': 0.1,\n",
              " 'loss': 'squared_error',\n",
              " 'max_depth': 5,\n",
              " 'max_features': None,\n",
              " 'max_leaf_nodes': None,\n",
              " 'min_impurity_decrease': 0.0,\n",
              " 'min_samples_leaf': 4,\n",
              " 'min_samples_split': 2,\n",
              " 'min_weight_fraction_leaf': 0.0,\n",
              " 'n_estimators': 100,\n",
              " 'n_iter_no_change': None,\n",
              " 'random_state': None,\n",
              " 'subsample': 1.0,\n",
              " 'tol': 0.0001,\n",
              " 'validation_fraction': 0.1,\n",
              " 'verbose': 0,\n",
              " 'warm_start': False}"
            ]
          },
          "execution_count": 68,
          "metadata": {},
          "output_type": "execute_result"
        }
      ],
      "source": [
        "best_model = grid_search.best_estimator_\n",
        "best_model.get_params()"
      ]
    },
    {
      "cell_type": "code",
      "execution_count": null,
      "metadata": {
        "id": "0l3ezePeOIVS"
      },
      "outputs": [],
      "source": [
        "grb_tuning = GradientBoostingRegressor(\n",
        "  alpha = 0.9,\n",
        "  ccp_alpha = 0.0,\n",
        "  criterion = 'friedman_mse',\n",
        "  init = None,\n",
        "  learning_rate = 0.1,\n",
        "  loss = 'squared_error',\n",
        "  max_depth = 5,\n",
        "  max_features = None,\n",
        "  max_leaf_nodes = None,\n",
        "  min_impurity_decrease = 0.0,\n",
        "  min_samples_leaf = 4,\n",
        "  min_samples_split = 2,\n",
        "  min_weight_fraction_leaf = 0.0,\n",
        "  n_estimators = 200,\n",
        "  n_iter_no_change = None,\n",
        "  random_state = None,\n",
        "  subsample = 1.0,\n",
        "  tol = 0.0001,\n",
        "  validation_fraction = 0.1,\n",
        "  verbose = 0,\n",
        "  warm_start = False\n",
        ")"
      ]
    },
    {
      "cell_type": "code",
      "execution_count": null,
      "metadata": {
        "colab": {
          "base_uri": "https://localhost:8080/"
        },
        "id": "-QGG948_O0DG",
        "outputId": "8a6da2d1-51ad-4450-faf6-f64b016fbdd2"
      },
      "outputs": [
        {
          "name": "stderr",
          "output_type": "stream",
          "text": [
            "/usr/local/lib/python3.10/dist-packages/sklearn/ensemble/_gb.py:437: DataConversionWarning: A column-vector y was passed when a 1d array was expected. Please change the shape of y to (n_samples, ), for example using ravel().\n",
            "  y = column_or_1d(y, warn=True)\n"
          ]
        }
      ],
      "source": [
        "grb_tuning.fit(x_train, y_train)\n",
        "\n",
        "grb_tuning_pred_train = grb_tuning.predict(x_train)\n",
        "grb_tuning_pred_test = grb_tuning.predict(x_test)\n",
        "\n",
        "r_sq_tuning = grb_tuning.score(x,y).round(4)\n",
        "\n",
        "mae_tuning_train = metrics.mean_absolute_error(y_train, grb_tuning_pred_train).round(4)\n",
        "mae_tuning_test = metrics.mean_absolute_error(y_test, grb_tuning_pred_test).round(4)\n",
        "\n",
        "mse_tuning_train = metrics.mean_squared_error(y_train, grb_tuning_pred_train).round(4)\n",
        "mse_tuning_test = metrics.mean_squared_error(y_test, grb_tuning_pred_test).round(4)\n",
        "\n"
      ]
    },
    {
      "cell_type": "markdown",
      "metadata": {
        "id": "UKwjScpHvdIm"
      },
      "source": [
        "## Resultados e Comparações"
      ]
    },
    {
      "cell_type": "code",
      "execution_count": null,
      "metadata": {
        "colab": {
          "base_uri": "https://localhost:8080/",
          "height": 242
        },
        "id": "nl1Lf5T8PWRt",
        "outputId": "90ee7b01-cd9b-4b84-f866-128228e3269c"
      },
      "outputs": [
        {
          "name": "stderr",
          "output_type": "stream",
          "text": [
            "<ipython-input-141-a9dace488756>:4: FutureWarning: The frame.append method is deprecated and will be removed from pandas in a future version. Use pandas.concat instead.\n",
            "  result = result.append(result_tuning, ignore_index=True)\n"
          ]
        },
        {
          "data": {
            "text/html": [
              "\n",
              "  <div id=\"df-a6aebd14-3c2c-463d-9dae-389d5b8f2b45\">\n",
              "    <div class=\"colab-df-container\">\n",
              "      <div>\n",
              "<style scoped>\n",
              "    .dataframe tbody tr th:only-of-type {\n",
              "        vertical-align: middle;\n",
              "    }\n",
              "\n",
              "    .dataframe tbody tr th {\n",
              "        vertical-align: top;\n",
              "    }\n",
              "\n",
              "    .dataframe thead th {\n",
              "        text-align: right;\n",
              "    }\n",
              "</style>\n",
              "<table border=\"1\" class=\"dataframe\">\n",
              "  <thead>\n",
              "    <tr style=\"text-align: right;\">\n",
              "      <th></th>\n",
              "      <th>Modelos</th>\n",
              "      <th>R^2</th>\n",
              "      <th>MAE Train</th>\n",
              "      <th>MAE Test</th>\n",
              "      <th>MSE Train</th>\n",
              "      <th>MSE Test</th>\n",
              "    </tr>\n",
              "  </thead>\n",
              "  <tbody>\n",
              "    <tr>\n",
              "      <th>0</th>\n",
              "      <td>Regressão Linear</td>\n",
              "      <td>0.7507</td>\n",
              "      <td>0.0672</td>\n",
              "      <td>0.0662</td>\n",
              "      <td>0.0095</td>\n",
              "      <td>0.0085</td>\n",
              "    </tr>\n",
              "    <tr>\n",
              "      <th>1</th>\n",
              "      <td>RandomForest</td>\n",
              "      <td>0.9515</td>\n",
              "      <td>0.0163</td>\n",
              "      <td>0.0417</td>\n",
              "      <td>0.0009</td>\n",
              "      <td>0.0055</td>\n",
              "    </tr>\n",
              "    <tr>\n",
              "      <th>2</th>\n",
              "      <td>AdaBoosting</td>\n",
              "      <td>0.8323</td>\n",
              "      <td>0.0612</td>\n",
              "      <td>0.0659</td>\n",
              "      <td>0.0061</td>\n",
              "      <td>0.0069</td>\n",
              "    </tr>\n",
              "    <tr>\n",
              "      <th>3</th>\n",
              "      <td>GradientBoosting</td>\n",
              "      <td>0.8965</td>\n",
              "      <td>0.0332</td>\n",
              "      <td>0.0384</td>\n",
              "      <td>0.0036</td>\n",
              "      <td>0.0048</td>\n",
              "    </tr>\n",
              "    <tr>\n",
              "      <th>4</th>\n",
              "      <td>GradientBoosting Tuning</td>\n",
              "      <td>0.9332</td>\n",
              "      <td>0.0231</td>\n",
              "      <td>0.0427</td>\n",
              "      <td>0.0017</td>\n",
              "      <td>0.0058</td>\n",
              "    </tr>\n",
              "  </tbody>\n",
              "</table>\n",
              "</div>\n",
              "      <button class=\"colab-df-convert\" onclick=\"convertToInteractive('df-a6aebd14-3c2c-463d-9dae-389d5b8f2b45')\"\n",
              "              title=\"Convert this dataframe to an interactive table.\"\n",
              "              style=\"display:none;\">\n",
              "        \n",
              "  <svg xmlns=\"http://www.w3.org/2000/svg\" height=\"24px\"viewBox=\"0 0 24 24\"\n",
              "       width=\"24px\">\n",
              "    <path d=\"M0 0h24v24H0V0z\" fill=\"none\"/>\n",
              "    <path d=\"M18.56 5.44l.94 2.06.94-2.06 2.06-.94-2.06-.94-.94-2.06-.94 2.06-2.06.94zm-11 1L8.5 8.5l.94-2.06 2.06-.94-2.06-.94L8.5 2.5l-.94 2.06-2.06.94zm10 10l.94 2.06.94-2.06 2.06-.94-2.06-.94-.94-2.06-.94 2.06-2.06.94z\"/><path d=\"M17.41 7.96l-1.37-1.37c-.4-.4-.92-.59-1.43-.59-.52 0-1.04.2-1.43.59L10.3 9.45l-7.72 7.72c-.78.78-.78 2.05 0 2.83L4 21.41c.39.39.9.59 1.41.59.51 0 1.02-.2 1.41-.59l7.78-7.78 2.81-2.81c.8-.78.8-2.07 0-2.86zM5.41 20L4 18.59l7.72-7.72 1.47 1.35L5.41 20z\"/>\n",
              "  </svg>\n",
              "      </button>\n",
              "      \n",
              "  <style>\n",
              "    .colab-df-container {\n",
              "      display:flex;\n",
              "      flex-wrap:wrap;\n",
              "      gap: 12px;\n",
              "    }\n",
              "\n",
              "    .colab-df-convert {\n",
              "      background-color: #E8F0FE;\n",
              "      border: none;\n",
              "      border-radius: 50%;\n",
              "      cursor: pointer;\n",
              "      display: none;\n",
              "      fill: #1967D2;\n",
              "      height: 32px;\n",
              "      padding: 0 0 0 0;\n",
              "      width: 32px;\n",
              "    }\n",
              "\n",
              "    .colab-df-convert:hover {\n",
              "      background-color: #E2EBFA;\n",
              "      box-shadow: 0px 1px 2px rgba(60, 64, 67, 0.3), 0px 1px 3px 1px rgba(60, 64, 67, 0.15);\n",
              "      fill: #174EA6;\n",
              "    }\n",
              "\n",
              "    [theme=dark] .colab-df-convert {\n",
              "      background-color: #3B4455;\n",
              "      fill: #D2E3FC;\n",
              "    }\n",
              "\n",
              "    [theme=dark] .colab-df-convert:hover {\n",
              "      background-color: #434B5C;\n",
              "      box-shadow: 0px 1px 3px 1px rgba(0, 0, 0, 0.15);\n",
              "      filter: drop-shadow(0px 1px 2px rgba(0, 0, 0, 0.3));\n",
              "      fill: #FFFFFF;\n",
              "    }\n",
              "  </style>\n",
              "\n",
              "      <script>\n",
              "        const buttonEl =\n",
              "          document.querySelector('#df-a6aebd14-3c2c-463d-9dae-389d5b8f2b45 button.colab-df-convert');\n",
              "        buttonEl.style.display =\n",
              "          google.colab.kernel.accessAllowed ? 'block' : 'none';\n",
              "\n",
              "        async function convertToInteractive(key) {\n",
              "          const element = document.querySelector('#df-a6aebd14-3c2c-463d-9dae-389d5b8f2b45');\n",
              "          const dataTable =\n",
              "            await google.colab.kernel.invokeFunction('convertToInteractive',\n",
              "                                                     [key], {});\n",
              "          if (!dataTable) return;\n",
              "\n",
              "          const docLinkHtml = 'Like what you see? Visit the ' +\n",
              "            '<a target=\"_blank\" href=https://colab.research.google.com/notebooks/data_table.ipynb>data table notebook</a>'\n",
              "            + ' to learn more about interactive tables.';\n",
              "          element.innerHTML = '';\n",
              "          dataTable['output_type'] = 'display_data';\n",
              "          await google.colab.output.renderOutput(dataTable, element);\n",
              "          const docLink = document.createElement('div');\n",
              "          docLink.innerHTML = docLinkHtml;\n",
              "          element.appendChild(docLink);\n",
              "        }\n",
              "      </script>\n",
              "    </div>\n",
              "  </div>\n",
              "  "
            ],
            "text/plain": [
              "                   Modelos     R^2  MAE Train  MAE Test  MSE Train  MSE Test\n",
              "0         Regressão Linear  0.7507     0.0672    0.0662     0.0095    0.0085\n",
              "1             RandomForest  0.9515     0.0163    0.0417     0.0009    0.0055\n",
              "2              AdaBoosting  0.8323     0.0612    0.0659     0.0061    0.0069\n",
              "3         GradientBoosting  0.8965     0.0332    0.0384     0.0036    0.0048\n",
              "4  GradientBoosting Tuning  0.9332     0.0231    0.0427     0.0017    0.0058"
            ]
          },
          "metadata": {},
          "output_type": "display_data"
        }
      ],
      "source": [
        "result_tuning = {'Modelos': 'GradientBoosting Tuning', 'R^2': r_sq_tuning, 'MAE Train': mae_tuning_train , 'MAE Test': mae_tuning_test, 'MSE Train': mse_tuning_train, 'MSE Test': mse_tuning_test}\n",
        "\n",
        "\n",
        "result = result.append(result_tuning, ignore_index=True)\n",
        "\n",
        "\n",
        "display(result)\n"
      ]
    },
    {
      "cell_type": "code",
      "execution_count": null,
      "metadata": {
        "colab": {
          "base_uri": "https://localhost:8080/",
          "height": 895
        },
        "id": "ZIem5FIxpA5e",
        "outputId": "f7c86e8f-5761-4e94-d2de-811aa5099b1e"
      },
      "outputs": [
        {
          "data": {
            "image/png": "[encoded data removed]",
            "text/plain": [
              "<Figure size 1800x1200 with 5 Axes>"
            ]
          },
          "metadata": {},
          "output_type": "display_data"
        }
      ],
      "source": [
        "#Configuração do Gráfico\n",
        "sns.set_palette(\"Set2\")\n",
        "sns.set(style=\"whitegrid\")\n",
        "\n",
        "# Criação do subplot com a configuração personalizada\n",
        "fig = plt.figure(figsize=(18, 12))\n",
        "\n",
        "# Gráfico R²\n",
        "ax1 = plt.subplot(3, 2, (1, 2))\n",
        "sns.barplot(data=result, x='Modelos', y='R^2', ax=ax1)\n",
        "ax1.set_xticklabels(result['Modelos'], rotation=60, ha='right')\n",
        "ax1.set_title(\"R²\")\n",
        "for i, v in enumerate(result['R^2']):\n",
        "    ax1.text(i, v, str(v), ha='center', va='bottom')\n",
        "\n",
        "# Gráfico MAE Train\n",
        "ax2 = plt.subplot(3, 2, 3)\n",
        "sns.barplot(data=result, x='Modelos', y='MAE Train', ax=ax2)\n",
        "ax2.set_xticklabels(result['Modelos'], rotation=60, ha='right')\n",
        "ax2.set_title(\"MAE Train\")\n",
        "for i, v in enumerate(result['MAE Train']):\n",
        "    ax2.text(i, v, str(v), ha='center', va='bottom')\n",
        "\n",
        "# Gráfico MAE Test\n",
        "ax3 = plt.subplot(3, 2, 4)\n",
        "sns.barplot(data=result, x='Modelos', y='MAE Test', ax=ax3)\n",
        "ax3.set_xticklabels(result['Modelos'], rotation=60, ha='right')\n",
        "ax3.set_title(\"MAE Test\")\n",
        "for i, v in enumerate(result['MAE Test']):\n",
        "    ax3.text(i, v, str(v), ha='center', va='bottom')\n",
        "\n",
        "# Gráfico MSE Train\n",
        "ax4 = plt.subplot(3, 2, 5)\n",
        "sns.barplot(data=result, x='Modelos', y='MSE Train', ax=ax4)\n",
        "ax4.set_xticklabels(result['Modelos'], rotation=60, ha='right')\n",
        "ax4.set_title(\"MSE Train\")\n",
        "for i, v in enumerate(result['MSE Train']):\n",
        "    ax4.text(i, v, str(v), ha='center', va='bottom')\n",
        "\n",
        "# Gráfico MSE Test\n",
        "ax5 = plt.subplot(3, 2, 6)\n",
        "sns.barplot(data=result, x='Modelos', y='MSE Test', ax=ax5)\n",
        "ax5.set_xticklabels(result['Modelos'], rotation=60, ha='right')\n",
        "ax5.set_title(\"MSE Test\")\n",
        "for i, v in enumerate(result['MSE Test']):\n",
        "    ax5.text(i, v, str(v), ha='center', va='bottom')\n",
        "\n",
        "for ax in [ax1, ax2, ax3, ax4, ax5]:\n",
        "    ax.set_xticklabels(ax.get_xticklabels(), fontsize=10)\n",
        "\n",
        "for ax in [ax1, ax2, ax3]:\n",
        "    ax.set_xlabel('')\n",
        "\n",
        "\n",
        "plt.tight_layout()\n",
        "plt.show()"
      ]
    },
    {
      "cell_type": "markdown",
      "metadata": {
        "id": "mmLH78OynYZG"
      },
      "source": [
        "Ao realizar a tunagem do modelo, obtivemos uma melhora significativa na métrica R². No entanto, observamos um aumento ligeiro no risco de overfitting em comparação com o modelo sem hiperparâmetros. Em relação ao RandomForest, que apresentou o melhor desempenho em termos de R², nosso modelo com hiperparâmetros obteve um resultado bastante próximo. No entanto, a vantagem do nosso modelo ajustado é a menor propensão ao overfitting, o que o torna uma  excelente opção em comparação com os demais modelos avaliados."
      ]
    }
  ],
  "metadata": {
    "colab": {
      "provenance": [],
      "toc_visible": true
    },
    "kernelspec": {
      "display_name": "Python 3",
      "name": "python3"
    },
    "language_info": {
      "codemirror_mode": {
        "name": "ipython",
        "version": 3
      },
      "file_extension": ".py",
      "mimetype": "text/x-python",
      "name": "python",
      "nbconvert_exporter": "python",
      "pygments_lexer": "ipython3",
      "version": "3.11.5"
    }
  },
  "nbformat": 4,
  "nbformat_minor": 0
}
